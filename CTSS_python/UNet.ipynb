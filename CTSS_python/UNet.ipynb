{
 "cells": [
  {
   "cell_type": "code",
   "execution_count": null,
   "metadata": {},
   "outputs": [],
   "source": [
    "print('hi')"
   ]
  },
  {
   "cell_type": "code",
   "execution_count": 1,
   "metadata": {
    "execution": {
     "iopub.execute_input": "2020-10-17T16:47:14.093929Z",
     "iopub.status.busy": "2020-10-17T16:47:14.093048Z",
     "iopub.status.idle": "2020-10-17T16:47:20.387050Z",
     "shell.execute_reply": "2020-10-17T16:47:20.385815Z"
    },
    "papermill": {
     "duration": 6.319884,
     "end_time": "2020-10-17T16:47:20.387189",
     "exception": false,
     "start_time": "2020-10-17T16:47:14.067305",
     "status": "completed"
    },
    "tags": []
   },
   "outputs": [],
   "source": [
    "import os\n",
    "import numpy as np\n",
    "import cv2\n",
    "import scipy.io as sio\n",
    "import PIL\n",
    "import pydicom\n",
    "\n",
    "import tensorflow.keras\n",
    "from tensorflow.keras.models import Sequential, Model\n",
    "from tensorflow.keras.layers import Input, concatenate, Conv2D, MaxPooling2D, Activation, UpSampling2D, BatchNormalization\n",
    "from tensorflow.keras.optimizers import Adam\n",
    "from tensorflow.keras import backend as K\n",
    "from tensorflow.keras.losses import binary_crossentropy\n",
    "from tensorflow.keras.preprocessing.image import load_img, img_to_array\n",
    "import matplotlib.pyplot as plt\n",
    "\n",
    "from sklearn.metrics import confusion_matrix"
   ]
  },
  {
   "cell_type": "code",
   "execution_count": 2,
   "metadata": {
    "execution": {
     "iopub.execute_input": "2020-10-17T16:47:20.433452Z",
     "iopub.status.busy": "2020-10-17T16:47:20.428257Z",
     "iopub.status.idle": "2020-10-17T16:47:20.568239Z",
     "shell.execute_reply": "2020-10-17T16:47:20.567432Z"
    },
    "papermill": {
     "duration": 0.164778,
     "end_time": "2020-10-17T16:47:20.568456",
     "exception": false,
     "start_time": "2020-10-17T16:47:20.403678",
     "status": "completed"
    },
    "scrolled": true,
    "tags": []
   },
   "outputs": [
    {
     "name": "stdout",
     "output_type": "stream",
     "text": [
      "train DICOM : 2722 sets\n",
      "train Label : 2722 sets\n",
      "test DICOM : 178 sets\n",
      "D:/_jiwon_/train/DICOM\\200225_Patient15_CT\\10143.dcm | D:/_jiwon_/train/Label\\200225_Patient15_CT\\10143.png\n",
      "D:/_jiwon_/train/DICOM\\200225_Patient15_CT\\10144.dcm | D:/_jiwon_/train/Label\\200225_Patient15_CT\\10144.png\n",
      "D:/_jiwon_/train/DICOM\\200225_Patient15_CT\\10145.dcm | D:/_jiwon_/train/Label\\200225_Patient15_CT\\10145.png\n",
      "D:/_jiwon_/train/DICOM\\200225_Patient15_CT\\10146.dcm | D:/_jiwon_/train/Label\\200225_Patient15_CT\\10146.png\n",
      "D:/_jiwon_/train/DICOM\\200225_Patient15_CT\\10147.dcm | D:/_jiwon_/train/Label\\200225_Patient15_CT\\10147.png\n",
      "D:/_jiwon_/train/DICOM\\200225_Patient15_CT\\10148.dcm | D:/_jiwon_/train/Label\\200225_Patient15_CT\\10148.png\n",
      "D:/_jiwon_/train/DICOM\\200225_Patient15_CT\\10149.dcm | D:/_jiwon_/train/Label\\200225_Patient15_CT\\10149.png\n",
      "D:/_jiwon_/train/DICOM\\200225_Patient15_CT\\10150.dcm | D:/_jiwon_/train/Label\\200225_Patient15_CT\\10150.png\n",
      "D:/_jiwon_/train/DICOM\\200225_Patient15_CT\\10151.dcm | D:/_jiwon_/train/Label\\200225_Patient15_CT\\10151.png\n",
      "D:/_jiwon_/train/DICOM\\200225_Patient15_CT\\10152.dcm | D:/_jiwon_/train/Label\\200225_Patient15_CT\\10152.png\n"
     ]
    }
   ],
   "source": [
    "train_dicom_dir = 'D:/_jiwon_/train/DICOM'\n",
    "train_label_dir = 'D:/_jiwon_/train/Label'\n",
    "test_dicom_dir = 'D:/_jiwon_/test/DICOM'\n",
    "\n",
    "img_size = (512, 512)\n",
    "num_classes = 2\n",
    "batch_size = 2\n",
    "\n",
    "\n",
    "train_dicom_paths = [\n",
    "    os.path.join(path, filename) \n",
    "    for (path, dir, files) in os.walk(train_dicom_dir) \n",
    "    for filename in files \n",
    "    if os.path.splitext(filename)[-1] == '.dcm'\n",
    "]\n",
    "\n",
    "print('train DICOM :', len(train_dicom_paths), 'sets')\n",
    "\n",
    "\n",
    "train_label_paths = [\n",
    "    os.path.join(path, filename) \n",
    "    for (path, dir, files) in os.walk(train_label_dir) \n",
    "    for filename in files \n",
    "    if os.path.splitext(filename)[-1] == '.png'\n",
    "]\n",
    "\n",
    "print('train Label :', len(train_label_paths), 'sets')\n",
    "\n",
    "\n",
    "test_dicom_paths = [\n",
    "    os.path.join(path, filename) \n",
    "    for (path, dir, files) in os.walk(test_dicom_dir) \n",
    "    for filename in files \n",
    "    if os.path.splitext(filename)[-1] == '.dcm'\n",
    "]\n",
    "\n",
    "print('test DICOM :', len(test_dicom_paths), 'sets')\n",
    "\n",
    "\n",
    "for dicom_path, label_path in zip(train_dicom_paths[-10:], train_label_paths[-10:]):\n",
    "    print(dicom_path, \"|\", label_path)"
   ]
  },
  {
   "cell_type": "code",
   "execution_count": 3,
   "metadata": {
    "execution": {
     "iopub.execute_input": "2020-10-17T16:47:20.672417Z",
     "iopub.status.busy": "2020-10-17T16:47:20.670208Z",
     "iopub.status.idle": "2020-10-17T16:47:20.673229Z",
     "shell.execute_reply": "2020-10-17T16:47:20.673778Z"
    },
    "papermill": {
     "duration": 0.03524,
     "end_time": "2020-10-17T16:47:20.673908",
     "exception": false,
     "start_time": "2020-10-17T16:47:20.638668",
     "status": "completed"
    },
    "tags": []
   },
   "outputs": [],
   "source": [
    "from tensorflow.keras.preprocessing.image import load_img\n",
    "\n",
    "def transform_to_hu(medical_image, image):\n",
    "    hu_image = image * medical_image.RescaleSlope + medical_image.RescaleIntercept\n",
    "    hu_image[hu_image < -1024] = -1024\n",
    "    return hu_image\n",
    "\n",
    "def window_image(image, window_center, window_width):\n",
    "    window_image = image.copy()\n",
    "    image_min = window_center - (window_width / 2)\n",
    "    image_max = window_center + (window_width / 2)\n",
    "    window_image[window_image < image_min] = image_min\n",
    "    window_image[window_image > image_max] = image_max\n",
    "    return window_image\n",
    "\n",
    "def resize_normalize(image):\n",
    "    image = np.array(image, dtype=np.float64)\n",
    "    image -= np.min(image)\n",
    "    image /= np.max(image)\n",
    "    return image\n",
    "\n",
    "def read_dicom(path, window_widht=400, window_level=60):    \n",
    "    image_medical = pydicom.dcmread(path)\n",
    "    image_data = image_medical.pixel_array\n",
    "\n",
    "    image_hu = transform_to_hu(image_medical, image_data)\n",
    "    image_window = window_image(image_hu.copy(), window_level, window_widht)\n",
    "    image_window_norm = resize_normalize(image_window)\n",
    "\n",
    "    image_window_norm = np.expand_dims(image_window_norm, axis=2)   # (512, 512, 1)\n",
    "    image_ths = np.concatenate([image_window_norm, image_window_norm, image_window_norm], axis=2)   # (512, 512, 3)\n",
    "    return image_ths"
   ]
  },
  {
   "cell_type": "code",
   "execution_count": 57,
   "metadata": {
    "execution": {
     "iopub.execute_input": "2020-10-17T16:47:20.726340Z",
     "iopub.status.busy": "2020-10-17T16:47:20.724257Z",
     "iopub.status.idle": "2020-10-17T16:47:20.727118Z",
     "shell.execute_reply": "2020-10-17T16:47:20.727723Z"
    },
    "papermill": {
     "duration": 0.036689,
     "end_time": "2020-10-17T16:47:20.727868",
     "exception": false,
     "start_time": "2020-10-17T16:47:20.691179",
     "status": "completed"
    },
    "tags": []
   },
   "outputs": [],
   "source": [
    "# DataGenerator : path list를 참조해 image & label 불러와 batch로 반환\n",
    "class DataGenerator(tensorflow.keras.utils.Sequence):\n",
    "    def __init__(self, batch_size, image_size, train_dicom_dir, train_label_dir):\n",
    "        self.batch_size = batch_size\n",
    "        self.image_size = image_size\n",
    "        self.train_dicom_paths = train_dicom_dir\n",
    "        self.train_label_paths = train_label_dir\n",
    "    \n",
    "    def __len__(self):\n",
    "        return len(self.train_dicom_paths) // self.batch_size\n",
    "    \n",
    "    def __getitem__(self, idx):\n",
    "        i = idx * self.batch_size\n",
    "        batch_train_dicom_paths = self.train_dicom_paths[i : i + self.batch_size]\n",
    "        batch_train_label_paths = self.train_label_paths[i : i + self.batch_size]\n",
    "        \n",
    "        x = np.zeros((batch_size,) + self.image_size + (3, ), dtype='float32')\n",
    "        for j, path in enumerate(batch_train_dicom_paths):\n",
    "            # add augmenation dataset(*.jpg) ==> **지금은 X!**\n",
    "            if path[-3:] == 'jpg':\n",
    "                image = cv2.imread(path)\n",
    "            else:\n",
    "                image = read_dicom(path) * 255\n",
    "            x[j] = image\n",
    "        \n",
    "        y = np.zeros((batch_size,) + self.image_size + (num_classes,), dtype='float32')\n",
    "        #print(y.shape) ==> (2, 512, 512, 2)\n",
    "        for j, path in enumerate(batch_train_label_paths):\n",
    "            image = load_img(path, target_size=self.image_size, color_mode='grayscale')\n",
    "            array = np.array(image) / 255 # 0과 255로 이루어진 (512, 512) 짜리 label 이미지\n",
    "            num = np.unique(array) # [0 255]\n",
    "            num = num.shape[0] # num.shape : (2, ) ==> num : 2\n",
    "            y[j] = np.eye(num)[array.astype(int)] # y[0].shape : (512, 512, 2) ==> label이 2가지 이므로! (0, 255)\n",
    "            # cf. 아래 np.eye() 사용법 참고!!\n",
    "        return x, y"
   ]
  },
  {
   "cell_type": "markdown",
   "metadata": {},
   "source": [
    "## Boolean Indexing\n",
    "### np.eye(number of classes)[vector containing the labels(array)]\n",
    "IndexError: **arrays used as indices must be of integer (or boolean) type**  \n",
    "> 즉, IndexError: index 255 is out of bounds for axis 0 with size 2   \n",
    "이 에러를 발생시킨 요인은, 뒤의 [ ] 안의 array! (**index**)  \n",
    "  \n",
    "> np.eye()를 indexing을 하기 위해 사용되는 np.array는 **int(0 or 1) or bool type**이어야 함!  \n",
    "  \n",
    "따라서 **label**의 요소값인 0과 255 대신 -> **0과 1**로 바꿔주기 위해, 다음과 같이 수정해줘야 한다.  \n",
    "```py\n",
    "array = np.array(image) / 255\n",
    "...\n",
    "y[j] = np.eye(num)[array.astype(int)]\n",
    "```"
   ]
  },
  {
   "cell_type": "code",
   "execution_count": 32,
   "metadata": {},
   "outputs": [
    {
     "data": {
      "text/plain": [
       "array([[1., 0.],\n",
       "       [0., 1.]])"
      ]
     },
     "execution_count": 32,
     "metadata": {},
     "output_type": "execute_result"
    }
   ],
   "source": [
    "np.eye(2)"
   ]
  },
  {
   "cell_type": "code",
   "execution_count": 58,
   "metadata": {
    "execution": {
     "iopub.execute_input": "2020-10-17T16:47:20.782320Z",
     "iopub.status.busy": "2020-10-17T16:47:20.781351Z",
     "iopub.status.idle": "2020-10-17T16:47:20.784673Z",
     "shell.execute_reply": "2020-10-17T16:47:20.784123Z"
    },
    "papermill": {
     "duration": 0.039162,
     "end_time": "2020-10-17T16:47:20.784788",
     "exception": false,
     "start_time": "2020-10-17T16:47:20.745626",
     "status": "completed"
    },
    "tags": []
   },
   "outputs": [],
   "source": [
    "import random\n",
    "\n",
    "val_samples = int(len(train_dicom_paths) * 0.1)\n",
    "random.Random(1337).shuffle(train_dicom_paths)\n",
    "random.Random(1337).shuffle(train_label_paths)\n",
    "\n",
    "train_gen = DataGenerator(batch_size, img_size, train_dicom_paths[:-val_samples], train_label_paths[:-val_samples])\n",
    "#print(train_gen[0][0][1].shape)\n",
    "val_gen = DataGenerator(batch_size, img_size, train_dicom_paths[-val_samples:], train_label_paths[-val_samples:])"
   ]
  },
  {
   "cell_type": "code",
   "execution_count": 59,
   "metadata": {},
   "outputs": [
    {
     "name": "stdout",
     "output_type": "stream",
     "text": [
      "(512, 512, 3)\n"
     ]
    }
   ],
   "source": [
    "print(train_gen[0][0][1].shape)"
   ]
  },
  {
   "cell_type": "code",
   "execution_count": 7,
   "metadata": {
    "execution": {
     "iopub.execute_input": "2020-10-17T16:47:20.837583Z",
     "iopub.status.busy": "2020-10-17T16:47:20.835575Z",
     "iopub.status.idle": "2020-10-17T16:47:20.838354Z",
     "shell.execute_reply": "2020-10-17T16:47:20.838843Z"
    },
    "papermill": {
     "duration": 0.036279,
     "end_time": "2020-10-17T16:47:20.839000",
     "exception": false,
     "start_time": "2020-10-17T16:47:20.802721",
     "status": "completed"
    },
    "tags": []
   },
   "outputs": [],
   "source": [
    "def make_colormask(class_data):\n",
    "    img = PIL.Image.fromarray(class_data)\n",
    "\n",
    "    mask_image = img.convert('RGBA')\n",
    "    mask_pixel = mask_image.load()\n",
    "\n",
    "    for i in range(mask_image.size[0]):\n",
    "        for j in range(mask_image.size[1]):\n",
    "            if mask_pixel[i, j] == (0, 0, 0, 255): # black(background)\n",
    "                mask_pixel[i, j] = (0, 0, 0, 0);\n",
    "            else:\n",
    "                mask_pixel[i, j] = (255, 0, 0, 128) # white(body)\n",
    "    return mask_image\n",
    "\n",
    "\n",
    "def overlay_colormask_on_image(img, color_mask):\n",
    "    return PIL.Image.alpha_composite(img.convert('RGBA'), color_mask) \\\n",
    "        .resize((img.size[0], img.size[1]), PIL.Image.ANTIALIAS)"
   ]
  },
  {
   "cell_type": "code",
   "execution_count": null,
   "metadata": {
    "execution": {
     "iopub.execute_input": "2020-10-17T16:47:20.878688Z",
     "iopub.status.busy": "2020-10-17T16:47:20.877873Z",
     "iopub.status.idle": "2020-10-17T16:47:20.884418Z",
     "shell.execute_reply": "2020-10-17T16:47:20.883773Z"
    },
    "papermill": {
     "duration": 0.028111,
     "end_time": "2020-10-17T16:47:20.884533",
     "exception": false,
     "start_time": "2020-10-17T16:47:20.856422",
     "status": "completed"
    },
    "tags": []
   },
   "outputs": [],
   "source": [
    "'''\n",
    "sample_rows = 6\n",
    "fig, m_axs = plt.subplots(sample_rows, 2, figsize = (20, 6*sample_rows))\n",
    "\n",
    "for ((ax1, ax2), dcm_path, label_path) in zip(m_axs, train_dicom_paths, train_label_paths):\n",
    "    dcm_image = PIL.Image.fromarray((read_dicom(dcm_path) * 255).astype('uint8'))\n",
    "    label_image = PIL.Image.open(label_path)\n",
    "    \n",
    "    ax1.imshow(dcm_image)\n",
    "    ax1.set_title('DICOM image')\n",
    "\n",
    "    color_mask = make_colormask(np.array(label_image)) \n",
    "    overlay_image = overlay_colormask_on_image(dcm_image, color_mask)\n",
    "    \n",
    "    ax2.imshow(overlay_image)\n",
    "    ax2.set_title('Label overlay image')\n",
    "'''"
   ]
  },
  {
   "cell_type": "code",
   "execution_count": 8,
   "metadata": {
    "execution": {
     "iopub.execute_input": "2020-10-17T16:47:20.971158Z",
     "iopub.status.busy": "2020-10-17T16:47:20.939825Z",
     "iopub.status.idle": "2020-10-17T16:47:20.988847Z",
     "shell.execute_reply": "2020-10-17T16:47:20.989377Z"
    },
    "papermill": {
     "duration": 0.086693,
     "end_time": "2020-10-17T16:47:20.989540",
     "exception": false,
     "start_time": "2020-10-17T16:47:20.902847",
     "status": "completed"
    },
    "tags": []
   },
   "outputs": [],
   "source": [
    "def get_model(img_size, num_classes):\n",
    "    inputs = Input(shape=img_size + (3,))\n",
    "    \n",
    "    # 512\n",
    "    down0a = Conv2D(16, (3, 3), padding='same')(inputs)\n",
    "    down0a = BatchNormalization()(down0a)\n",
    "    down0a = Activation('relu')(down0a)\n",
    "    down0a = Conv2D(16, (3, 3), padding='same')(down0a)\n",
    "    down0a = BatchNormalization()(down0a)\n",
    "    down0a = Activation('relu')(down0a)\n",
    "    down0a_pool = MaxPooling2D((2, 2), strides=(2, 2))(down0a)\n",
    "    \n",
    "    # 256\n",
    "    down0 = Conv2D(32, (3, 3), padding='same')(down0a_pool)\n",
    "    down0 = BatchNormalization()(down0)\n",
    "    down0 = Activation('relu')(down0)\n",
    "    down0 = Conv2D(32, (3, 3), padding='same')(down0)\n",
    "    down0 = BatchNormalization()(down0)\n",
    "    down0 = Activation('relu')(down0)\n",
    "    down0_pool = MaxPooling2D((2, 2), strides=(2, 2))(down0)\n",
    "    \n",
    "    # 128\n",
    "    down1 = Conv2D(64, (3, 3), padding='same')(down0_pool)\n",
    "    down1 = BatchNormalization()(down1)\n",
    "    down1 = Activation('relu')(down1)\n",
    "    down1 = Conv2D(64, (3, 3), padding='same')(down1)\n",
    "    down1 = BatchNormalization()(down1)\n",
    "    down1 = Activation('relu')(down1)\n",
    "    down1_pool = MaxPooling2D((2, 2), strides=(2, 2))(down1)\n",
    "    \n",
    "    # 64\n",
    "    down2 = Conv2D(128, (3, 3), padding='same')(down1_pool)\n",
    "    down2 = BatchNormalization()(down2)\n",
    "    down2 = Activation('relu')(down2)\n",
    "    down2 = Conv2D(128, (3, 3), padding='same')(down2)\n",
    "    down2 = BatchNormalization()(down2)\n",
    "    down2 = Activation('relu')(down2)\n",
    "    down2_pool = MaxPooling2D((2, 2), strides=(2, 2))(down2)\n",
    "    \n",
    "    # 32\n",
    "    down3 = Conv2D(256, (3, 3), padding='same')(down2_pool)\n",
    "    down3 = BatchNormalization()(down3)\n",
    "    down3 = Activation('relu')(down3)\n",
    "    down3 = Conv2D(256, (3, 3), padding='same')(down3)\n",
    "    down3 = BatchNormalization()(down3)\n",
    "    down3 = Activation('relu')(down3)\n",
    "    down3_pool = MaxPooling2D((2, 2), strides=(2, 2))(down3)\n",
    "    \n",
    "    # 16\n",
    "    down4 = Conv2D(512, (3, 3), padding='same')(down3_pool)\n",
    "    down4 = BatchNormalization()(down4)\n",
    "    down4 = Activation('relu')(down4)\n",
    "    down4 = Conv2D(512, (3, 3), padding='same')(down4)\n",
    "    down4 = BatchNormalization()(down4)\n",
    "    down4 = Activation('relu')(down4)\n",
    "    down4_pool = MaxPooling2D((2, 2), strides=(2, 2))(down4)\n",
    "    \n",
    "    # 8\n",
    "    center = Conv2D(1024, (3, 3), padding='same')(down4_pool)\n",
    "    center = BatchNormalization()(center)\n",
    "    center = Activation('relu')(center)\n",
    "    center = Conv2D(1024, (3, 3), padding='same')(center)\n",
    "    center = BatchNormalization()(center)\n",
    "    center = Activation('relu')(center)\n",
    "    \n",
    "    # center\n",
    "    up4 = UpSampling2D((2, 2))(center)\n",
    "    up4 = concatenate([down4, up4], axis=3)\n",
    "    up4 = Conv2D(512, (3, 3), padding='same')(up4)\n",
    "    up4 = BatchNormalization()(up4)\n",
    "    up4 = Activation('relu')(up4)\n",
    "    up4 = Conv2D(512, (3, 3), padding='same')(up4)\n",
    "    up4 = BatchNormalization()(up4)\n",
    "    up4 = Activation('relu')(up4)\n",
    "    up4 = Conv2D(512, (3, 3), padding='same')(up4)\n",
    "    up4 = BatchNormalization()(up4)\n",
    "    up4 = Activation('relu')(up4)\n",
    "    \n",
    "    # 16\n",
    "    up3 = UpSampling2D((2, 2))(up4)\n",
    "    up3 = concatenate([down3, up3], axis=3)\n",
    "    up3 = Conv2D(256, (3, 3), padding='same')(up3)\n",
    "    up3 = BatchNormalization()(up3)\n",
    "    up3 = Activation('relu')(up3)\n",
    "    up3 = Conv2D(256, (3, 3), padding='same')(up3)\n",
    "    up3 = BatchNormalization()(up3)\n",
    "    up3 = Activation('relu')(up3)\n",
    "    up3 = Conv2D(256, (3, 3), padding='same')(up3)\n",
    "    up3 = BatchNormalization()(up3)\n",
    "    up3 = Activation('relu')(up3)\n",
    "    \n",
    "    # 32\n",
    "    up2 = UpSampling2D((2, 2))(up3)\n",
    "    up2 = concatenate([down2, up2], axis=3)\n",
    "    up2 = Conv2D(128, (3, 3), padding='same')(up2)\n",
    "    up2 = BatchNormalization()(up2)\n",
    "    up2 = Activation('relu')(up2)\n",
    "    up2 = Conv2D(128, (3, 3), padding='same')(up2)\n",
    "    up2 = BatchNormalization()(up2)\n",
    "    up2 = Activation('relu')(up2)\n",
    "    up2 = Conv2D(128, (3, 3), padding='same')(up2)\n",
    "    up2 = BatchNormalization()(up2)\n",
    "    up2 = Activation('relu')(up2)\n",
    "    \n",
    "    # 64\n",
    "    up1 = UpSampling2D((2, 2))(up2)\n",
    "    up1 = concatenate([down1, up1], axis=3)\n",
    "    up1 = Conv2D(64, (3, 3), padding='same')(up1)\n",
    "    up1 = BatchNormalization()(up1)\n",
    "    up1 = Activation('relu')(up1)\n",
    "    up1 = Conv2D(64, (3, 3), padding='same')(up1)\n",
    "    up1 = BatchNormalization()(up1)\n",
    "    up1 = Activation('relu')(up1)\n",
    "    up1 = Conv2D(64, (3, 3), padding='same')(up1)\n",
    "    up1 = BatchNormalization()(up1)\n",
    "    up1 = Activation('relu')(up1)\n",
    "    \n",
    "    # 128\n",
    "    up0 = UpSampling2D((2, 2))(up1)\n",
    "    up0 = concatenate([down0, up0], axis=3)\n",
    "    up0 = Conv2D(32, (3, 3), padding='same')(up0)\n",
    "    up0 = BatchNormalization()(up0)\n",
    "    up0 = Activation('relu')(up0)\n",
    "    up0 = Conv2D(32, (3, 3), padding='same')(up0)\n",
    "    up0 = BatchNormalization()(up0)\n",
    "    up0 = Activation('relu')(up0)\n",
    "    up0 = Conv2D(32, (3, 3), padding='same')(up0)\n",
    "    up0 = BatchNormalization()(up0)\n",
    "    up0 = Activation('relu')(up0)\n",
    "    \n",
    "    # 256\n",
    "    up0a = UpSampling2D((2, 2))(up0)\n",
    "    up0a = concatenate([down0a, up0a], axis=3)\n",
    "    up0a = Conv2D(16, (3, 3), padding='same')(up0a)\n",
    "    up0a = BatchNormalization()(up0a)\n",
    "    up0a = Activation('relu')(up0a)\n",
    "    up0a = Conv2D(16, (3, 3), padding='same')(up0a)\n",
    "    up0a = BatchNormalization()(up0a)\n",
    "    up0a = Activation('relu')(up0a)\n",
    "    up0a = Conv2D(16, (3, 3), padding='same')(up0a)\n",
    "    up0a = BatchNormalization()(up0a)\n",
    "    up0a = Activation('relu')(up0a)\n",
    "    \n",
    "    # 512\n",
    "    outputs = Conv2D(num_classes, (1, 1), activation='sigmoid')(up0a)\n",
    "\n",
    "    model = Model(inputs, outputs)\n",
    "    return model"
   ]
  },
  {
   "cell_type": "code",
   "execution_count": 9,
   "metadata": {
    "execution": {
     "iopub.execute_input": "2020-10-17T16:47:21.033004Z",
     "iopub.status.busy": "2020-10-17T16:47:21.032226Z",
     "iopub.status.idle": "2020-10-17T16:47:24.822124Z",
     "shell.execute_reply": "2020-10-17T16:47:24.821462Z"
    },
    "papermill": {
     "duration": 3.81349,
     "end_time": "2020-10-17T16:47:24.822245",
     "exception": false,
     "start_time": "2020-10-17T16:47:21.008755",
     "status": "completed"
    },
    "tags": []
   },
   "outputs": [
    {
     "name": "stdout",
     "output_type": "stream",
     "text": [
      "Model: \"model\"\n",
      "__________________________________________________________________________________________________\n",
      "Layer (type)                    Output Shape         Param #     Connected to                     \n",
      "==================================================================================================\n",
      "input_1 (InputLayer)            [(None, 512, 512, 3) 0                                            \n",
      "__________________________________________________________________________________________________\n",
      "conv2d (Conv2D)                 (None, 512, 512, 16) 448         input_1[0][0]                    \n",
      "__________________________________________________________________________________________________\n",
      "batch_normalization (BatchNorma (None, 512, 512, 16) 64          conv2d[0][0]                     \n",
      "__________________________________________________________________________________________________\n",
      "activation (Activation)         (None, 512, 512, 16) 0           batch_normalization[0][0]        \n",
      "__________________________________________________________________________________________________\n",
      "conv2d_1 (Conv2D)               (None, 512, 512, 16) 2320        activation[0][0]                 \n",
      "__________________________________________________________________________________________________\n",
      "batch_normalization_1 (BatchNor (None, 512, 512, 16) 64          conv2d_1[0][0]                   \n",
      "__________________________________________________________________________________________________\n",
      "activation_1 (Activation)       (None, 512, 512, 16) 0           batch_normalization_1[0][0]      \n",
      "__________________________________________________________________________________________________\n",
      "max_pooling2d (MaxPooling2D)    (None, 256, 256, 16) 0           activation_1[0][0]               \n",
      "__________________________________________________________________________________________________\n",
      "conv2d_2 (Conv2D)               (None, 256, 256, 32) 4640        max_pooling2d[0][0]              \n",
      "__________________________________________________________________________________________________\n",
      "batch_normalization_2 (BatchNor (None, 256, 256, 32) 128         conv2d_2[0][0]                   \n",
      "__________________________________________________________________________________________________\n",
      "activation_2 (Activation)       (None, 256, 256, 32) 0           batch_normalization_2[0][0]      \n",
      "__________________________________________________________________________________________________\n",
      "conv2d_3 (Conv2D)               (None, 256, 256, 32) 9248        activation_2[0][0]               \n",
      "__________________________________________________________________________________________________\n",
      "batch_normalization_3 (BatchNor (None, 256, 256, 32) 128         conv2d_3[0][0]                   \n",
      "__________________________________________________________________________________________________\n",
      "activation_3 (Activation)       (None, 256, 256, 32) 0           batch_normalization_3[0][0]      \n",
      "__________________________________________________________________________________________________\n",
      "max_pooling2d_1 (MaxPooling2D)  (None, 128, 128, 32) 0           activation_3[0][0]               \n",
      "__________________________________________________________________________________________________\n",
      "conv2d_4 (Conv2D)               (None, 128, 128, 64) 18496       max_pooling2d_1[0][0]            \n",
      "__________________________________________________________________________________________________\n",
      "batch_normalization_4 (BatchNor (None, 128, 128, 64) 256         conv2d_4[0][0]                   \n",
      "__________________________________________________________________________________________________\n",
      "activation_4 (Activation)       (None, 128, 128, 64) 0           batch_normalization_4[0][0]      \n",
      "__________________________________________________________________________________________________\n",
      "conv2d_5 (Conv2D)               (None, 128, 128, 64) 36928       activation_4[0][0]               \n",
      "__________________________________________________________________________________________________\n",
      "batch_normalization_5 (BatchNor (None, 128, 128, 64) 256         conv2d_5[0][0]                   \n",
      "__________________________________________________________________________________________________\n",
      "activation_5 (Activation)       (None, 128, 128, 64) 0           batch_normalization_5[0][0]      \n",
      "__________________________________________________________________________________________________\n",
      "max_pooling2d_2 (MaxPooling2D)  (None, 64, 64, 64)   0           activation_5[0][0]               \n",
      "__________________________________________________________________________________________________\n",
      "conv2d_6 (Conv2D)               (None, 64, 64, 128)  73856       max_pooling2d_2[0][0]            \n",
      "__________________________________________________________________________________________________\n",
      "batch_normalization_6 (BatchNor (None, 64, 64, 128)  512         conv2d_6[0][0]                   \n",
      "__________________________________________________________________________________________________\n",
      "activation_6 (Activation)       (None, 64, 64, 128)  0           batch_normalization_6[0][0]      \n",
      "__________________________________________________________________________________________________\n",
      "conv2d_7 (Conv2D)               (None, 64, 64, 128)  147584      activation_6[0][0]               \n",
      "__________________________________________________________________________________________________\n",
      "batch_normalization_7 (BatchNor (None, 64, 64, 128)  512         conv2d_7[0][0]                   \n",
      "__________________________________________________________________________________________________\n",
      "activation_7 (Activation)       (None, 64, 64, 128)  0           batch_normalization_7[0][0]      \n",
      "__________________________________________________________________________________________________\n",
      "max_pooling2d_3 (MaxPooling2D)  (None, 32, 32, 128)  0           activation_7[0][0]               \n",
      "__________________________________________________________________________________________________\n",
      "conv2d_8 (Conv2D)               (None, 32, 32, 256)  295168      max_pooling2d_3[0][0]            \n",
      "__________________________________________________________________________________________________\n",
      "batch_normalization_8 (BatchNor (None, 32, 32, 256)  1024        conv2d_8[0][0]                   \n",
      "__________________________________________________________________________________________________\n",
      "activation_8 (Activation)       (None, 32, 32, 256)  0           batch_normalization_8[0][0]      \n",
      "__________________________________________________________________________________________________\n",
      "conv2d_9 (Conv2D)               (None, 32, 32, 256)  590080      activation_8[0][0]               \n",
      "__________________________________________________________________________________________________\n",
      "batch_normalization_9 (BatchNor (None, 32, 32, 256)  1024        conv2d_9[0][0]                   \n",
      "__________________________________________________________________________________________________\n",
      "activation_9 (Activation)       (None, 32, 32, 256)  0           batch_normalization_9[0][0]      \n",
      "__________________________________________________________________________________________________\n",
      "max_pooling2d_4 (MaxPooling2D)  (None, 16, 16, 256)  0           activation_9[0][0]               \n",
      "__________________________________________________________________________________________________\n",
      "conv2d_10 (Conv2D)              (None, 16, 16, 512)  1180160     max_pooling2d_4[0][0]            \n",
      "__________________________________________________________________________________________________\n",
      "batch_normalization_10 (BatchNo (None, 16, 16, 512)  2048        conv2d_10[0][0]                  \n",
      "__________________________________________________________________________________________________\n",
      "activation_10 (Activation)      (None, 16, 16, 512)  0           batch_normalization_10[0][0]     \n",
      "__________________________________________________________________________________________________\n",
      "conv2d_11 (Conv2D)              (None, 16, 16, 512)  2359808     activation_10[0][0]              \n",
      "__________________________________________________________________________________________________\n",
      "batch_normalization_11 (BatchNo (None, 16, 16, 512)  2048        conv2d_11[0][0]                  \n",
      "__________________________________________________________________________________________________\n",
      "activation_11 (Activation)      (None, 16, 16, 512)  0           batch_normalization_11[0][0]     \n",
      "__________________________________________________________________________________________________\n",
      "max_pooling2d_5 (MaxPooling2D)  (None, 8, 8, 512)    0           activation_11[0][0]              \n",
      "__________________________________________________________________________________________________\n",
      "conv2d_12 (Conv2D)              (None, 8, 8, 1024)   4719616     max_pooling2d_5[0][0]            \n",
      "__________________________________________________________________________________________________\n",
      "batch_normalization_12 (BatchNo (None, 8, 8, 1024)   4096        conv2d_12[0][0]                  \n",
      "__________________________________________________________________________________________________\n",
      "activation_12 (Activation)      (None, 8, 8, 1024)   0           batch_normalization_12[0][0]     \n",
      "__________________________________________________________________________________________________\n",
      "conv2d_13 (Conv2D)              (None, 8, 8, 1024)   9438208     activation_12[0][0]              \n",
      "__________________________________________________________________________________________________\n",
      "batch_normalization_13 (BatchNo (None, 8, 8, 1024)   4096        conv2d_13[0][0]                  \n",
      "__________________________________________________________________________________________________\n",
      "activation_13 (Activation)      (None, 8, 8, 1024)   0           batch_normalization_13[0][0]     \n",
      "__________________________________________________________________________________________________\n",
      "up_sampling2d (UpSampling2D)    (None, 16, 16, 1024) 0           activation_13[0][0]              \n",
      "__________________________________________________________________________________________________\n",
      "concatenate (Concatenate)       (None, 16, 16, 1536) 0           activation_11[0][0]              \n",
      "                                                                 up_sampling2d[0][0]              \n",
      "__________________________________________________________________________________________________\n",
      "conv2d_14 (Conv2D)              (None, 16, 16, 512)  7078400     concatenate[0][0]                \n",
      "__________________________________________________________________________________________________\n",
      "batch_normalization_14 (BatchNo (None, 16, 16, 512)  2048        conv2d_14[0][0]                  \n",
      "__________________________________________________________________________________________________\n",
      "activation_14 (Activation)      (None, 16, 16, 512)  0           batch_normalization_14[0][0]     \n",
      "__________________________________________________________________________________________________\n",
      "conv2d_15 (Conv2D)              (None, 16, 16, 512)  2359808     activation_14[0][0]              \n",
      "__________________________________________________________________________________________________\n",
      "batch_normalization_15 (BatchNo (None, 16, 16, 512)  2048        conv2d_15[0][0]                  \n",
      "__________________________________________________________________________________________________\n",
      "activation_15 (Activation)      (None, 16, 16, 512)  0           batch_normalization_15[0][0]     \n",
      "__________________________________________________________________________________________________\n",
      "conv2d_16 (Conv2D)              (None, 16, 16, 512)  2359808     activation_15[0][0]              \n",
      "__________________________________________________________________________________________________\n",
      "batch_normalization_16 (BatchNo (None, 16, 16, 512)  2048        conv2d_16[0][0]                  \n",
      "__________________________________________________________________________________________________\n",
      "activation_16 (Activation)      (None, 16, 16, 512)  0           batch_normalization_16[0][0]     \n",
      "__________________________________________________________________________________________________\n",
      "up_sampling2d_1 (UpSampling2D)  (None, 32, 32, 512)  0           activation_16[0][0]              \n",
      "__________________________________________________________________________________________________\n",
      "concatenate_1 (Concatenate)     (None, 32, 32, 768)  0           activation_9[0][0]               \n",
      "                                                                 up_sampling2d_1[0][0]            \n",
      "__________________________________________________________________________________________________\n",
      "conv2d_17 (Conv2D)              (None, 32, 32, 256)  1769728     concatenate_1[0][0]              \n",
      "__________________________________________________________________________________________________\n",
      "batch_normalization_17 (BatchNo (None, 32, 32, 256)  1024        conv2d_17[0][0]                  \n",
      "__________________________________________________________________________________________________\n",
      "activation_17 (Activation)      (None, 32, 32, 256)  0           batch_normalization_17[0][0]     \n",
      "__________________________________________________________________________________________________\n",
      "conv2d_18 (Conv2D)              (None, 32, 32, 256)  590080      activation_17[0][0]              \n",
      "__________________________________________________________________________________________________\n",
      "batch_normalization_18 (BatchNo (None, 32, 32, 256)  1024        conv2d_18[0][0]                  \n",
      "__________________________________________________________________________________________________\n",
      "activation_18 (Activation)      (None, 32, 32, 256)  0           batch_normalization_18[0][0]     \n",
      "__________________________________________________________________________________________________\n",
      "conv2d_19 (Conv2D)              (None, 32, 32, 256)  590080      activation_18[0][0]              \n",
      "__________________________________________________________________________________________________\n",
      "batch_normalization_19 (BatchNo (None, 32, 32, 256)  1024        conv2d_19[0][0]                  \n",
      "__________________________________________________________________________________________________\n",
      "activation_19 (Activation)      (None, 32, 32, 256)  0           batch_normalization_19[0][0]     \n",
      "__________________________________________________________________________________________________\n",
      "up_sampling2d_2 (UpSampling2D)  (None, 64, 64, 256)  0           activation_19[0][0]              \n",
      "__________________________________________________________________________________________________\n",
      "concatenate_2 (Concatenate)     (None, 64, 64, 384)  0           activation_7[0][0]               \n",
      "                                                                 up_sampling2d_2[0][0]            \n",
      "__________________________________________________________________________________________________\n",
      "conv2d_20 (Conv2D)              (None, 64, 64, 128)  442496      concatenate_2[0][0]              \n",
      "__________________________________________________________________________________________________\n",
      "batch_normalization_20 (BatchNo (None, 64, 64, 128)  512         conv2d_20[0][0]                  \n",
      "__________________________________________________________________________________________________\n",
      "activation_20 (Activation)      (None, 64, 64, 128)  0           batch_normalization_20[0][0]     \n",
      "__________________________________________________________________________________________________\n",
      "conv2d_21 (Conv2D)              (None, 64, 64, 128)  147584      activation_20[0][0]              \n",
      "__________________________________________________________________________________________________\n",
      "batch_normalization_21 (BatchNo (None, 64, 64, 128)  512         conv2d_21[0][0]                  \n",
      "__________________________________________________________________________________________________\n",
      "activation_21 (Activation)      (None, 64, 64, 128)  0           batch_normalization_21[0][0]     \n",
      "__________________________________________________________________________________________________\n",
      "conv2d_22 (Conv2D)              (None, 64, 64, 128)  147584      activation_21[0][0]              \n",
      "__________________________________________________________________________________________________\n",
      "batch_normalization_22 (BatchNo (None, 64, 64, 128)  512         conv2d_22[0][0]                  \n",
      "__________________________________________________________________________________________________\n",
      "activation_22 (Activation)      (None, 64, 64, 128)  0           batch_normalization_22[0][0]     \n",
      "__________________________________________________________________________________________________\n",
      "up_sampling2d_3 (UpSampling2D)  (None, 128, 128, 128 0           activation_22[0][0]              \n",
      "__________________________________________________________________________________________________\n",
      "concatenate_3 (Concatenate)     (None, 128, 128, 192 0           activation_5[0][0]               \n",
      "                                                                 up_sampling2d_3[0][0]            \n",
      "__________________________________________________________________________________________________\n",
      "conv2d_23 (Conv2D)              (None, 128, 128, 64) 110656      concatenate_3[0][0]              \n",
      "__________________________________________________________________________________________________\n",
      "batch_normalization_23 (BatchNo (None, 128, 128, 64) 256         conv2d_23[0][0]                  \n",
      "__________________________________________________________________________________________________\n",
      "activation_23 (Activation)      (None, 128, 128, 64) 0           batch_normalization_23[0][0]     \n",
      "__________________________________________________________________________________________________\n",
      "conv2d_24 (Conv2D)              (None, 128, 128, 64) 36928       activation_23[0][0]              \n",
      "__________________________________________________________________________________________________\n",
      "batch_normalization_24 (BatchNo (None, 128, 128, 64) 256         conv2d_24[0][0]                  \n",
      "__________________________________________________________________________________________________\n",
      "activation_24 (Activation)      (None, 128, 128, 64) 0           batch_normalization_24[0][0]     \n",
      "__________________________________________________________________________________________________\n",
      "conv2d_25 (Conv2D)              (None, 128, 128, 64) 36928       activation_24[0][0]              \n",
      "__________________________________________________________________________________________________\n",
      "batch_normalization_25 (BatchNo (None, 128, 128, 64) 256         conv2d_25[0][0]                  \n",
      "__________________________________________________________________________________________________\n",
      "activation_25 (Activation)      (None, 128, 128, 64) 0           batch_normalization_25[0][0]     \n",
      "__________________________________________________________________________________________________\n",
      "up_sampling2d_4 (UpSampling2D)  (None, 256, 256, 64) 0           activation_25[0][0]              \n",
      "__________________________________________________________________________________________________\n",
      "concatenate_4 (Concatenate)     (None, 256, 256, 96) 0           activation_3[0][0]               \n",
      "                                                                 up_sampling2d_4[0][0]            \n",
      "__________________________________________________________________________________________________\n",
      "conv2d_26 (Conv2D)              (None, 256, 256, 32) 27680       concatenate_4[0][0]              \n",
      "__________________________________________________________________________________________________\n",
      "batch_normalization_26 (BatchNo (None, 256, 256, 32) 128         conv2d_26[0][0]                  \n",
      "__________________________________________________________________________________________________\n",
      "activation_26 (Activation)      (None, 256, 256, 32) 0           batch_normalization_26[0][0]     \n",
      "__________________________________________________________________________________________________\n",
      "conv2d_27 (Conv2D)              (None, 256, 256, 32) 9248        activation_26[0][0]              \n",
      "__________________________________________________________________________________________________\n",
      "batch_normalization_27 (BatchNo (None, 256, 256, 32) 128         conv2d_27[0][0]                  \n",
      "__________________________________________________________________________________________________\n",
      "activation_27 (Activation)      (None, 256, 256, 32) 0           batch_normalization_27[0][0]     \n",
      "__________________________________________________________________________________________________\n",
      "conv2d_28 (Conv2D)              (None, 256, 256, 32) 9248        activation_27[0][0]              \n",
      "__________________________________________________________________________________________________\n",
      "batch_normalization_28 (BatchNo (None, 256, 256, 32) 128         conv2d_28[0][0]                  \n",
      "__________________________________________________________________________________________________\n",
      "activation_28 (Activation)      (None, 256, 256, 32) 0           batch_normalization_28[0][0]     \n",
      "__________________________________________________________________________________________________\n",
      "up_sampling2d_5 (UpSampling2D)  (None, 512, 512, 32) 0           activation_28[0][0]              \n",
      "__________________________________________________________________________________________________\n",
      "concatenate_5 (Concatenate)     (None, 512, 512, 48) 0           activation_1[0][0]               \n",
      "                                                                 up_sampling2d_5[0][0]            \n",
      "__________________________________________________________________________________________________\n",
      "conv2d_29 (Conv2D)              (None, 512, 512, 16) 6928        concatenate_5[0][0]              \n",
      "__________________________________________________________________________________________________\n",
      "batch_normalization_29 (BatchNo (None, 512, 512, 16) 64          conv2d_29[0][0]                  \n",
      "__________________________________________________________________________________________________\n",
      "activation_29 (Activation)      (None, 512, 512, 16) 0           batch_normalization_29[0][0]     \n",
      "__________________________________________________________________________________________________\n",
      "conv2d_30 (Conv2D)              (None, 512, 512, 16) 2320        activation_29[0][0]              \n",
      "__________________________________________________________________________________________________\n",
      "batch_normalization_30 (BatchNo (None, 512, 512, 16) 64          conv2d_30[0][0]                  \n",
      "__________________________________________________________________________________________________\n",
      "activation_30 (Activation)      (None, 512, 512, 16) 0           batch_normalization_30[0][0]     \n",
      "__________________________________________________________________________________________________\n",
      "conv2d_31 (Conv2D)              (None, 512, 512, 16) 2320        activation_30[0][0]              \n",
      "__________________________________________________________________________________________________\n",
      "batch_normalization_31 (BatchNo (None, 512, 512, 16) 64          conv2d_31[0][0]                  \n",
      "__________________________________________________________________________________________________\n",
      "activation_31 (Activation)      (None, 512, 512, 16) 0           batch_normalization_31[0][0]     \n",
      "__________________________________________________________________________________________________\n",
      "conv2d_32 (Conv2D)              (None, 512, 512, 2)  34          activation_31[0][0]              \n",
      "==================================================================================================\n",
      "Total params: 34,632,770\n",
      "Trainable params: 34,618,594\n",
      "Non-trainable params: 14,176\n",
      "__________________________________________________________________________________________________\n"
     ]
    }
   ],
   "source": [
    "model = get_model(img_size, num_classes)\n",
    "model.summary()"
   ]
  },
  {
   "cell_type": "code",
   "execution_count": 10,
   "metadata": {
    "execution": {
     "iopub.execute_input": "2020-10-17T16:47:24.883792Z",
     "iopub.status.busy": "2020-10-17T16:47:24.882816Z",
     "iopub.status.idle": "2020-10-17T16:47:24.885658Z",
     "shell.execute_reply": "2020-10-17T16:47:24.886166Z"
    },
    "papermill": {
     "duration": 0.034926,
     "end_time": "2020-10-17T16:47:24.886346",
     "exception": false,
     "start_time": "2020-10-17T16:47:24.851420",
     "status": "completed"
    },
    "tags": []
   },
   "outputs": [],
   "source": [
    "from tensorflow.keras import backend as K\n",
    "import tensorflow as tf\n",
    "\n",
    "def dice_coef(y_true, y_pred):\n",
    "    y_true_f = tf.cast(K.flatten(y_true), dtype='float32')\n",
    "    y_pred_f = K.flatten(y_pred)\n",
    "    intersection = K.sum(y_true_f * y_pred_f)\n",
    "    return (2.0 * intersection) / (K.sum(y_true_f) + K.sum(y_pred_f))\n",
    "def dice_coef_multilabel(y_true, y_pred, num_labels = 2):\n",
    "    dice = 0\n",
    "    for index in range(num_labels):\n",
    "        dice += (\n",
    "        1 - dice_coef(y_true[:,:,:,index], y_pred[:,:,:,index])\n",
    "        ) / num_labels\n",
    "    return dice\n",
    "def softmax_dice_loss(y_true, y_pred):\n",
    "    index = tf.argmax(y_true, axis=-1)\n",
    "    alpha = 1\n",
    "    beta = 1\n",
    "    return alpha * K.sparse_categorical_crossentropy(index, y_pred, from_logits=False) \\\n",
    "        + beta * dice_coef_multilabel(y_true, y_pred, 2)"
   ]
  },
  {
   "cell_type": "code",
   "execution_count": 5,
   "metadata": {},
   "outputs": [
    {
     "name": "stdout",
     "output_type": "stream",
     "text": [
      "[name: \"/device:CPU:0\"\n",
      "device_type: \"CPU\"\n",
      "memory_limit: 268435456\n",
      "locality {\n",
      "}\n",
      "incarnation: 10537990531667525364\n",
      "]\n"
     ]
    },
    {
     "data": {
      "text/plain": [
       "'\\n# How to check if Keras is using GPU\\nfrom tensorflow.keras import backend as K\\nK.tensorflow_backend._get_available_gpus()\\n'"
      ]
     },
     "execution_count": 5,
     "metadata": {},
     "output_type": "execute_result"
    }
   ],
   "source": [
    "# How to check if the code is running on GPU or CPU?\n",
    "\n",
    "from tensorflow.python.client import device_lib\n",
    "print(device_lib.list_local_devices())\n",
    "\n",
    "'''\n",
    "# How to check if Keras is using GPU\n",
    "from tensorflow.keras import backend as K\n",
    "K.tensorflow_backend._get_available_gpus()\n",
    "'''"
   ]
  },
  {
   "cell_type": "code",
   "execution_count": 4,
   "metadata": {},
   "outputs": [
    {
     "name": "stdout",
     "output_type": "stream",
     "text": [
      "2.4.0\n"
     ]
    },
    {
     "data": {
      "text/plain": [
       "False"
      ]
     },
     "execution_count": 4,
     "metadata": {},
     "output_type": "execute_result"
    }
   ],
   "source": [
    "import tensorflow as tf \n",
    "print(tf.__version__) \n",
    "tf.test.is_gpu_available()"
   ]
  },
  {
   "cell_type": "code",
   "execution_count": 65,
   "metadata": {
    "execution": {
     "iopub.execute_input": "2020-10-17T16:47:24.942684Z",
     "iopub.status.busy": "2020-10-17T16:47:24.940762Z",
     "iopub.status.idle": "2020-10-17T18:08:12.588056Z",
     "shell.execute_reply": "2020-10-17T18:08:12.587460Z"
    },
    "papermill": {
     "duration": 4847.682571,
     "end_time": "2020-10-17T18:08:12.588187",
     "exception": false,
     "start_time": "2020-10-17T16:47:24.905616",
     "status": "completed"
    },
    "scrolled": true,
    "tags": []
   },
   "outputs": [
    {
     "name": "stdout",
     "output_type": "stream",
     "text": [
      "Epoch 1/10\n",
      "1225/1225 [==============================] - 8151s 7s/step - loss: 0.1185 - val_loss: 0.0063\n",
      "Epoch 2/10\n",
      "1225/1225 [==============================] - 7773s 6s/step - loss: 0.0076 - val_loss: 0.0049\n",
      "Epoch 3/10\n",
      "1225/1225 [==============================] - 7762s 6s/step - loss: 0.0054 - val_loss: 12.2709\n",
      "Epoch 4/10\n",
      "1225/1225 [==============================] - 7787s 6s/step - loss: 0.0044 - val_loss: 0.0044\n",
      "Epoch 5/10\n",
      "1225/1225 [==============================] - 7778s 6s/step - loss: 0.0039 - val_loss: 0.0038\n",
      "Epoch 6/10\n",
      "1225/1225 [==============================] - 7769s 6s/step - loss: 0.0033 - val_loss: 0.0041\n",
      "Epoch 7/10\n",
      "1225/1225 [==============================] - 7764s 6s/step - loss: 0.0032 - val_loss: 0.0544\n",
      "Epoch 8/10\n",
      "1225/1225 [==============================] - 7932s 6s/step - loss: 0.0030 - val_loss: 0.0027\n",
      "Epoch 9/10\n",
      "1225/1225 [==============================] - 7935s 6s/step - loss: 0.0030 - val_loss: 0.0028\n",
      "Epoch 10/10\n",
      " 130/1225 [==>...........................] - ETA: 2:09:01 - loss: 0.0024"
     ]
    },
    {
     "ename": "ResourceExhaustedError",
     "evalue": " OOM when allocating tensor with shape[1,262144,432] and type float on /job:localhost/replica:0/task:0/device:CPU:0 by allocator cpu\n\t [[node gradient_tape/model/conv2d_29/Conv2D/Conv2DBackpropInput (defined at <ipython-input-65-1f5c82f0d157>:9) ]]\nHint: If you want to see a list of allocated tensors when OOM happens, add report_tensor_allocations_upon_oom to RunOptions for current allocation info.\n [Op:__inference_train_function_17830]\n\nFunction call stack:\ntrain_function\n",
     "output_type": "error",
     "traceback": [
      "\u001b[1;31m---------------------------------------------------------------------------\u001b[0m",
      "\u001b[1;31mResourceExhaustedError\u001b[0m                    Traceback (most recent call last)",
      "\u001b[1;32m<ipython-input-65-1f5c82f0d157>\u001b[0m in \u001b[0;36m<module>\u001b[1;34m\u001b[0m\n\u001b[0;32m      7\u001b[0m \u001b[1;31m# Train the model, doing validation at the end of each epoch.\u001b[0m\u001b[1;33m\u001b[0m\u001b[1;33m\u001b[0m\u001b[1;33m\u001b[0m\u001b[0m\n\u001b[0;32m      8\u001b[0m \u001b[0mepochs\u001b[0m \u001b[1;33m=\u001b[0m \u001b[1;36m10\u001b[0m\u001b[1;33m\u001b[0m\u001b[1;33m\u001b[0m\u001b[0m\n\u001b[1;32m----> 9\u001b[1;33m \u001b[0mmodel\u001b[0m\u001b[1;33m.\u001b[0m\u001b[0mfit\u001b[0m\u001b[1;33m(\u001b[0m\u001b[0mtrain_gen\u001b[0m\u001b[1;33m,\u001b[0m \u001b[0mepochs\u001b[0m\u001b[1;33m=\u001b[0m\u001b[0mepochs\u001b[0m\u001b[1;33m,\u001b[0m \u001b[0mvalidation_data\u001b[0m\u001b[1;33m=\u001b[0m\u001b[0mval_gen\u001b[0m\u001b[1;33m,\u001b[0m \u001b[0mcallbacks\u001b[0m\u001b[1;33m=\u001b[0m\u001b[0mcallbacks\u001b[0m\u001b[1;33m)\u001b[0m\u001b[1;33m\u001b[0m\u001b[1;33m\u001b[0m\u001b[0m\n\u001b[0m",
      "\u001b[1;32m~\\anaconda3\\lib\\site-packages\\tensorflow\\python\\keras\\engine\\training.py\u001b[0m in \u001b[0;36mfit\u001b[1;34m(self, x, y, batch_size, epochs, verbose, callbacks, validation_split, validation_data, shuffle, class_weight, sample_weight, initial_epoch, steps_per_epoch, validation_steps, validation_batch_size, validation_freq, max_queue_size, workers, use_multiprocessing)\u001b[0m\n\u001b[0;32m   1098\u001b[0m                 _r=1):\n\u001b[0;32m   1099\u001b[0m               \u001b[0mcallbacks\u001b[0m\u001b[1;33m.\u001b[0m\u001b[0mon_train_batch_begin\u001b[0m\u001b[1;33m(\u001b[0m\u001b[0mstep\u001b[0m\u001b[1;33m)\u001b[0m\u001b[1;33m\u001b[0m\u001b[1;33m\u001b[0m\u001b[0m\n\u001b[1;32m-> 1100\u001b[1;33m               \u001b[0mtmp_logs\u001b[0m \u001b[1;33m=\u001b[0m \u001b[0mself\u001b[0m\u001b[1;33m.\u001b[0m\u001b[0mtrain_function\u001b[0m\u001b[1;33m(\u001b[0m\u001b[0miterator\u001b[0m\u001b[1;33m)\u001b[0m\u001b[1;33m\u001b[0m\u001b[1;33m\u001b[0m\u001b[0m\n\u001b[0m\u001b[0;32m   1101\u001b[0m               \u001b[1;32mif\u001b[0m \u001b[0mdata_handler\u001b[0m\u001b[1;33m.\u001b[0m\u001b[0mshould_sync\u001b[0m\u001b[1;33m:\u001b[0m\u001b[1;33m\u001b[0m\u001b[1;33m\u001b[0m\u001b[0m\n\u001b[0;32m   1102\u001b[0m                 \u001b[0mcontext\u001b[0m\u001b[1;33m.\u001b[0m\u001b[0masync_wait\u001b[0m\u001b[1;33m(\u001b[0m\u001b[1;33m)\u001b[0m\u001b[1;33m\u001b[0m\u001b[1;33m\u001b[0m\u001b[0m\n",
      "\u001b[1;32m~\\anaconda3\\lib\\site-packages\\tensorflow\\python\\eager\\def_function.py\u001b[0m in \u001b[0;36m__call__\u001b[1;34m(self, *args, **kwds)\u001b[0m\n\u001b[0;32m    826\u001b[0m     \u001b[0mtracing_count\u001b[0m \u001b[1;33m=\u001b[0m \u001b[0mself\u001b[0m\u001b[1;33m.\u001b[0m\u001b[0mexperimental_get_tracing_count\u001b[0m\u001b[1;33m(\u001b[0m\u001b[1;33m)\u001b[0m\u001b[1;33m\u001b[0m\u001b[1;33m\u001b[0m\u001b[0m\n\u001b[0;32m    827\u001b[0m     \u001b[1;32mwith\u001b[0m \u001b[0mtrace\u001b[0m\u001b[1;33m.\u001b[0m\u001b[0mTrace\u001b[0m\u001b[1;33m(\u001b[0m\u001b[0mself\u001b[0m\u001b[1;33m.\u001b[0m\u001b[0m_name\u001b[0m\u001b[1;33m)\u001b[0m \u001b[1;32mas\u001b[0m \u001b[0mtm\u001b[0m\u001b[1;33m:\u001b[0m\u001b[1;33m\u001b[0m\u001b[1;33m\u001b[0m\u001b[0m\n\u001b[1;32m--> 828\u001b[1;33m       \u001b[0mresult\u001b[0m \u001b[1;33m=\u001b[0m \u001b[0mself\u001b[0m\u001b[1;33m.\u001b[0m\u001b[0m_call\u001b[0m\u001b[1;33m(\u001b[0m\u001b[1;33m*\u001b[0m\u001b[0margs\u001b[0m\u001b[1;33m,\u001b[0m \u001b[1;33m**\u001b[0m\u001b[0mkwds\u001b[0m\u001b[1;33m)\u001b[0m\u001b[1;33m\u001b[0m\u001b[1;33m\u001b[0m\u001b[0m\n\u001b[0m\u001b[0;32m    829\u001b[0m       \u001b[0mcompiler\u001b[0m \u001b[1;33m=\u001b[0m \u001b[1;34m\"xla\"\u001b[0m \u001b[1;32mif\u001b[0m \u001b[0mself\u001b[0m\u001b[1;33m.\u001b[0m\u001b[0m_experimental_compile\u001b[0m \u001b[1;32melse\u001b[0m \u001b[1;34m\"nonXla\"\u001b[0m\u001b[1;33m\u001b[0m\u001b[1;33m\u001b[0m\u001b[0m\n\u001b[0;32m    830\u001b[0m       \u001b[0mnew_tracing_count\u001b[0m \u001b[1;33m=\u001b[0m \u001b[0mself\u001b[0m\u001b[1;33m.\u001b[0m\u001b[0mexperimental_get_tracing_count\u001b[0m\u001b[1;33m(\u001b[0m\u001b[1;33m)\u001b[0m\u001b[1;33m\u001b[0m\u001b[1;33m\u001b[0m\u001b[0m\n",
      "\u001b[1;32m~\\anaconda3\\lib\\site-packages\\tensorflow\\python\\eager\\def_function.py\u001b[0m in \u001b[0;36m_call\u001b[1;34m(self, *args, **kwds)\u001b[0m\n\u001b[0;32m    853\u001b[0m       \u001b[1;31m# In this case we have created variables on the first call, so we run the\u001b[0m\u001b[1;33m\u001b[0m\u001b[1;33m\u001b[0m\u001b[1;33m\u001b[0m\u001b[0m\n\u001b[0;32m    854\u001b[0m       \u001b[1;31m# defunned version which is guaranteed to never create variables.\u001b[0m\u001b[1;33m\u001b[0m\u001b[1;33m\u001b[0m\u001b[1;33m\u001b[0m\u001b[0m\n\u001b[1;32m--> 855\u001b[1;33m       \u001b[1;32mreturn\u001b[0m \u001b[0mself\u001b[0m\u001b[1;33m.\u001b[0m\u001b[0m_stateless_fn\u001b[0m\u001b[1;33m(\u001b[0m\u001b[1;33m*\u001b[0m\u001b[0margs\u001b[0m\u001b[1;33m,\u001b[0m \u001b[1;33m**\u001b[0m\u001b[0mkwds\u001b[0m\u001b[1;33m)\u001b[0m  \u001b[1;31m# pylint: disable=not-callable\u001b[0m\u001b[1;33m\u001b[0m\u001b[1;33m\u001b[0m\u001b[0m\n\u001b[0m\u001b[0;32m    856\u001b[0m     \u001b[1;32melif\u001b[0m \u001b[0mself\u001b[0m\u001b[1;33m.\u001b[0m\u001b[0m_stateful_fn\u001b[0m \u001b[1;32mis\u001b[0m \u001b[1;32mnot\u001b[0m \u001b[1;32mNone\u001b[0m\u001b[1;33m:\u001b[0m\u001b[1;33m\u001b[0m\u001b[1;33m\u001b[0m\u001b[0m\n\u001b[0;32m    857\u001b[0m       \u001b[1;31m# Release the lock early so that multiple threads can perform the call\u001b[0m\u001b[1;33m\u001b[0m\u001b[1;33m\u001b[0m\u001b[1;33m\u001b[0m\u001b[0m\n",
      "\u001b[1;32m~\\anaconda3\\lib\\site-packages\\tensorflow\\python\\eager\\function.py\u001b[0m in \u001b[0;36m__call__\u001b[1;34m(self, *args, **kwargs)\u001b[0m\n\u001b[0;32m   2940\u001b[0m       (graph_function,\n\u001b[0;32m   2941\u001b[0m        filtered_flat_args) = self._maybe_define_function(args, kwargs)\n\u001b[1;32m-> 2942\u001b[1;33m     return graph_function._call_flat(\n\u001b[0m\u001b[0;32m   2943\u001b[0m         filtered_flat_args, captured_inputs=graph_function.captured_inputs)  # pylint: disable=protected-access\n\u001b[0;32m   2944\u001b[0m \u001b[1;33m\u001b[0m\u001b[0m\n",
      "\u001b[1;32m~\\anaconda3\\lib\\site-packages\\tensorflow\\python\\eager\\function.py\u001b[0m in \u001b[0;36m_call_flat\u001b[1;34m(self, args, captured_inputs, cancellation_manager)\u001b[0m\n\u001b[0;32m   1916\u001b[0m         and executing_eagerly):\n\u001b[0;32m   1917\u001b[0m       \u001b[1;31m# No tape is watching; skip to running the function.\u001b[0m\u001b[1;33m\u001b[0m\u001b[1;33m\u001b[0m\u001b[1;33m\u001b[0m\u001b[0m\n\u001b[1;32m-> 1918\u001b[1;33m       return self._build_call_outputs(self._inference_function.call(\n\u001b[0m\u001b[0;32m   1919\u001b[0m           ctx, args, cancellation_manager=cancellation_manager))\n\u001b[0;32m   1920\u001b[0m     forward_backward = self._select_forward_and_backward_functions(\n",
      "\u001b[1;32m~\\anaconda3\\lib\\site-packages\\tensorflow\\python\\eager\\function.py\u001b[0m in \u001b[0;36mcall\u001b[1;34m(self, ctx, args, cancellation_manager)\u001b[0m\n\u001b[0;32m    553\u001b[0m       \u001b[1;32mwith\u001b[0m \u001b[0m_InterpolateFunctionError\u001b[0m\u001b[1;33m(\u001b[0m\u001b[0mself\u001b[0m\u001b[1;33m)\u001b[0m\u001b[1;33m:\u001b[0m\u001b[1;33m\u001b[0m\u001b[1;33m\u001b[0m\u001b[0m\n\u001b[0;32m    554\u001b[0m         \u001b[1;32mif\u001b[0m \u001b[0mcancellation_manager\u001b[0m \u001b[1;32mis\u001b[0m \u001b[1;32mNone\u001b[0m\u001b[1;33m:\u001b[0m\u001b[1;33m\u001b[0m\u001b[1;33m\u001b[0m\u001b[0m\n\u001b[1;32m--> 555\u001b[1;33m           outputs = execute.execute(\n\u001b[0m\u001b[0;32m    556\u001b[0m               \u001b[0mstr\u001b[0m\u001b[1;33m(\u001b[0m\u001b[0mself\u001b[0m\u001b[1;33m.\u001b[0m\u001b[0msignature\u001b[0m\u001b[1;33m.\u001b[0m\u001b[0mname\u001b[0m\u001b[1;33m)\u001b[0m\u001b[1;33m,\u001b[0m\u001b[1;33m\u001b[0m\u001b[1;33m\u001b[0m\u001b[0m\n\u001b[0;32m    557\u001b[0m               \u001b[0mnum_outputs\u001b[0m\u001b[1;33m=\u001b[0m\u001b[0mself\u001b[0m\u001b[1;33m.\u001b[0m\u001b[0m_num_outputs\u001b[0m\u001b[1;33m,\u001b[0m\u001b[1;33m\u001b[0m\u001b[1;33m\u001b[0m\u001b[0m\n",
      "\u001b[1;32m~\\anaconda3\\lib\\site-packages\\tensorflow\\python\\eager\\execute.py\u001b[0m in \u001b[0;36mquick_execute\u001b[1;34m(op_name, num_outputs, inputs, attrs, ctx, name)\u001b[0m\n\u001b[0;32m     57\u001b[0m   \u001b[1;32mtry\u001b[0m\u001b[1;33m:\u001b[0m\u001b[1;33m\u001b[0m\u001b[1;33m\u001b[0m\u001b[0m\n\u001b[0;32m     58\u001b[0m     \u001b[0mctx\u001b[0m\u001b[1;33m.\u001b[0m\u001b[0mensure_initialized\u001b[0m\u001b[1;33m(\u001b[0m\u001b[1;33m)\u001b[0m\u001b[1;33m\u001b[0m\u001b[1;33m\u001b[0m\u001b[0m\n\u001b[1;32m---> 59\u001b[1;33m     tensors = pywrap_tfe.TFE_Py_Execute(ctx._handle, device_name, op_name,\n\u001b[0m\u001b[0;32m     60\u001b[0m                                         inputs, attrs, num_outputs)\n\u001b[0;32m     61\u001b[0m   \u001b[1;32mexcept\u001b[0m \u001b[0mcore\u001b[0m\u001b[1;33m.\u001b[0m\u001b[0m_NotOkStatusException\u001b[0m \u001b[1;32mas\u001b[0m \u001b[0me\u001b[0m\u001b[1;33m:\u001b[0m\u001b[1;33m\u001b[0m\u001b[1;33m\u001b[0m\u001b[0m\n",
      "\u001b[1;31mResourceExhaustedError\u001b[0m:  OOM when allocating tensor with shape[1,262144,432] and type float on /job:localhost/replica:0/task:0/device:CPU:0 by allocator cpu\n\t [[node gradient_tape/model/conv2d_29/Conv2D/Conv2DBackpropInput (defined at <ipython-input-65-1f5c82f0d157>:9) ]]\nHint: If you want to see a list of allocated tensors when OOM happens, add report_tensor_allocations_upon_oom to RunOptions for current allocation info.\n [Op:__inference_train_function_17830]\n\nFunction call stack:\ntrain_function\n"
     ]
    }
   ],
   "source": [
    "model.compile(optimizer='rmsprop', loss=softmax_dice_loss)\n",
    "\n",
    "callbacks = [\n",
    "    tensorflow.keras.callbacks.ModelCheckpoint('model.h5', save_best_only=True)\n",
    "]\n",
    "\n",
    "# Train the model, doing validation at the end of each epoch.\n",
    "epochs = 10\n",
    "model.fit(train_gen, epochs=epochs, validation_data=val_gen, callbacks=callbacks)"
   ]
  },
  {
   "cell_type": "code",
   "execution_count": null,
   "metadata": {
    "execution": {
     "iopub.execute_input": "2020-10-17T18:08:42.462104Z",
     "iopub.status.busy": "2020-10-17T18:08:42.451933Z",
     "iopub.status.idle": "2020-10-17T18:08:42.477918Z",
     "shell.execute_reply": "2020-10-17T18:08:42.477299Z"
    },
    "papermill": {
     "duration": 14.761347,
     "end_time": "2020-10-17T18:08:42.478029",
     "exception": false,
     "start_time": "2020-10-17T18:08:27.716682",
     "status": "completed"
    },
    "tags": []
   },
   "outputs": [],
   "source": [
    "model_json = model.to_json()\n",
    "with open(\"model.json\", \"w\") as json_file:\n",
    "    json_file.write(model_json)"
   ]
  },
  {
   "cell_type": "code",
   "execution_count": null,
   "metadata": {
    "execution": {
     "iopub.execute_input": "2020-10-17T18:09:13.131498Z",
     "iopub.status.busy": "2020-10-17T18:09:13.130650Z",
     "iopub.status.idle": "2020-10-17T18:09:17.849156Z",
     "shell.execute_reply": "2020-10-17T18:09:17.848115Z"
    },
    "papermill": {
     "duration": 20.369693,
     "end_time": "2020-10-17T18:09:17.849304",
     "exception": false,
     "start_time": "2020-10-17T18:08:57.479611",
     "status": "completed"
    },
    "tags": []
   },
   "outputs": [],
   "source": [
    "from IPython.display import Image, display\n",
    "\n",
    "preds = {}\n",
    "for test_dicom_path in test_dicom_paths:\n",
    "    test_image = read_dicom(test_dicom_path) * 255\n",
    "    test_image = PIL.Image.fromarray(test_image.astype('uint8'))\n",
    "    \n",
    "    pred = model.predict(np.expand_dims(np.array(test_image), axis=0))\n",
    "    class_data = np.argmax(pred.squeeze(), axis=-1).astype('uint8')\n",
    "    \n",
    "    filename = os.path.basename(test_dicom_path)\n",
    "    preds[filename] = class_data"
   ]
  },
  {
   "cell_type": "code",
   "execution_count": null,
   "metadata": {
    "execution": {
     "iopub.execute_input": "2020-10-17T18:09:47.212127Z",
     "iopub.status.busy": "2020-10-17T18:09:47.211132Z",
     "iopub.status.idle": "2020-10-17T18:09:51.734205Z",
     "shell.execute_reply": "2020-10-17T18:09:51.734817Z"
    },
    "papermill": {
     "duration": 18.938051,
     "end_time": "2020-10-17T18:09:51.734966",
     "exception": false,
     "start_time": "2020-10-17T18:09:32.796915",
     "status": "completed"
    },
    "tags": []
   },
   "outputs": [],
   "source": [
    "sample_rows = 6\n",
    "fig, m_axs = plt.subplots(sample_rows, 2, figsize = (20, 6*sample_rows))\n",
    "\n",
    "for (ax1, ax2), (filename, pred) in zip(m_axs, preds.items()):\n",
    "    dcm_path = os.path.join(test_dicom_dir, filename)\n",
    "    dcm_img = PIL.Image.fromarray((read_dicom(dcm_path) * 255).astype('uint8'))\n",
    "    \n",
    "    ax1.imshow(dcm_img)\n",
    "    ax1.set_title('DICOM image')\n",
    "\n",
    "    color_mask = make_colormask(pred) \n",
    "    overlay_img = overlay_colormask_on_image(dcm_img.convert('RGBA'), color_mask)\n",
    "    \n",
    "    ax2.imshow(overlay_img)\n",
    "    ax2.set_title('Prediction')"
   ]
  },
  {
   "cell_type": "code",
   "execution_count": null,
   "metadata": {
    "execution": {
     "iopub.execute_input": "2020-10-17T18:10:23.559920Z",
     "iopub.status.busy": "2020-10-17T18:10:23.557843Z",
     "iopub.status.idle": "2020-10-17T18:10:23.560669Z",
     "shell.execute_reply": "2020-10-17T18:10:23.561203Z"
    },
    "papermill": {
     "duration": 15.018271,
     "end_time": "2020-10-17T18:10:23.561376",
     "exception": false,
     "start_time": "2020-10-17T18:10:08.543105",
     "status": "completed"
    },
    "tags": []
   },
   "outputs": [],
   "source": [
    "def rle_encode(mask_image):\n",
    "    pixels = mask_image.flatten()\n",
    "    # We avoid issues with '1' at the start or end (at the corners of\n",
    "    # the original image) by setting those pixels to '0' explicitly.\n",
    "    # We do not expect these to be non-zero for an accurate mask,\n",
    "    # so this should not harm the score.\n",
    "    pixels[0] = 0\n",
    "    pixels[-1] = 0\n",
    "    runs = np.where(pixels[1:] != pixels[:-1])[0] + 2\n",
    "    runs[1::2] = runs[1::2] - runs[:-1:2]\n",
    "    return runs"
   ]
  },
  {
   "cell_type": "code",
   "execution_count": null,
   "metadata": {
    "execution": {
     "iopub.execute_input": "2020-10-17T18:10:53.472478Z",
     "iopub.status.busy": "2020-10-17T18:10:53.471458Z",
     "iopub.status.idle": "2020-10-17T18:10:53.753321Z",
     "shell.execute_reply": "2020-10-17T18:10:53.752714Z"
    },
    "papermill": {
     "duration": 15.061965,
     "end_time": "2020-10-17T18:10:53.753501",
     "exception": false,
     "start_time": "2020-10-17T18:10:38.691536",
     "status": "completed"
    },
    "tags": []
   },
   "outputs": [],
   "source": [
    "imageIds = []\n",
    "encodedPixels = []\n",
    "\n",
    "for key, value in preds.items():\n",
    "    filename, extension = os.path.splitext(key)\n",
    "    for label_number in range(1, num_classes):  \n",
    "        imageIds.append(f'{filename}_{label_number}')\n",
    "        encodedPixels.append(str(list(rle_encode(np.equal(value, label_number))))[1:-1].strip().replace(',',''))\n",
    "\n",
    "import pandas as pd\n",
    "submission_df = pd.DataFrame({'ImageId': imageIds, 'EncodedPixels': encodedPixels})"
   ]
  },
  {
   "cell_type": "code",
   "execution_count": null,
   "metadata": {
    "execution": {
     "iopub.execute_input": "2020-10-17T18:11:24.906348Z",
     "iopub.status.busy": "2020-10-17T18:11:24.905191Z",
     "iopub.status.idle": "2020-10-17T18:11:24.915653Z",
     "shell.execute_reply": "2020-10-17T18:11:24.914896Z"
    },
    "papermill": {
     "duration": 14.623157,
     "end_time": "2020-10-17T18:11:24.915785",
     "exception": false,
     "start_time": "2020-10-17T18:11:10.292628",
     "status": "completed"
    },
    "tags": []
   },
   "outputs": [],
   "source": [
    "submission_df.head()"
   ]
  },
  {
   "cell_type": "code",
   "execution_count": null,
   "metadata": {
    "execution": {
     "iopub.execute_input": "2020-10-17T18:11:54.886227Z",
     "iopub.status.busy": "2020-10-17T18:11:54.885244Z",
     "iopub.status.idle": "2020-10-17T18:11:55.176707Z",
     "shell.execute_reply": "2020-10-17T18:11:55.176104Z"
    },
    "papermill": {
     "duration": 14.903089,
     "end_time": "2020-10-17T18:11:55.176834",
     "exception": false,
     "start_time": "2020-10-17T18:11:40.273745",
     "status": "completed"
    },
    "tags": []
   },
   "outputs": [],
   "source": [
    "submission_df.to_csv('./submission.csv',index=False)\n",
    "from IPython.display import FileLink\n",
    "FileLink('./submission.csv')"
   ]
  },
  {
   "cell_type": "code",
   "execution_count": null,
   "metadata": {
    "papermill": {
     "duration": 15.157825,
     "end_time": "2020-10-17T18:12:26.650219",
     "exception": false,
     "start_time": "2020-10-17T18:12:11.492394",
     "status": "completed"
    },
    "tags": []
   },
   "outputs": [],
   "source": []
  }
 ],
 "metadata": {
  "kernelspec": {
   "display_name": "Python 3",
   "language": "python",
   "name": "python3"
  },
  "language_info": {
   "codemirror_mode": {
    "name": "ipython",
    "version": 3
   },
   "file_extension": ".py",
   "mimetype": "text/x-python",
   "name": "python",
   "nbconvert_exporter": "python",
   "pygments_lexer": "ipython3",
   "version": "3.8.5"
  },
  "papermill": {
   "duration": 5133.414305,
   "end_time": "2020-10-17T18:12:43.186532",
   "environment_variables": {},
   "exception": null,
   "input_path": "__notebook__.ipynb",
   "output_path": "__notebook__.ipynb",
   "parameters": {},
   "start_time": "2020-10-17T16:47:09.772227",
   "version": "2.1.0"
  }
 },
 "nbformat": 4,
 "nbformat_minor": 4
}
