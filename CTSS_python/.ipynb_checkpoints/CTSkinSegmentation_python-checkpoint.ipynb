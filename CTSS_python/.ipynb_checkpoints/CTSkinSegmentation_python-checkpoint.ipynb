{
 "cells": [
  {
   "cell_type": "code",
   "execution_count": 1,
   "metadata": {},
   "outputs": [
    {
     "name": "stdout",
     "output_type": "stream",
     "text": [
      "4.4.0\n"
     ]
    }
   ],
   "source": [
    "import cv2 as cv\n",
    "print(cv.__version__)"
   ]
  },
  {
   "cell_type": "markdown",
   "metadata": {},
   "source": [
    "### numpy array indexing"
   ]
  },
  {
   "cell_type": "code",
   "execution_count": 99,
   "metadata": {},
   "outputs": [
    {
     "name": "stdout",
     "output_type": "stream",
     "text": [
      "<class 'numpy.ndarray'>\n",
      "(180, 279, 3)\n",
      "[[ 45  45  45 ... 255 255 255]\n",
      " [ 45  45  45 ... 255 255 255]\n",
      " [ 45  45  45 ... 255 255 255]\n",
      " ...\n",
      " [255 255 255 ... 255 255 255]\n",
      " [255 255 255 ... 255 255 255]\n",
      " [255 255 255 ... 255 255 255]]\n",
      "\n",
      "[[ 46  46  46 ... 255 255 255]\n",
      " [ 46  46  46 ... 255 255 255]\n",
      " [ 46  46  46 ... 255 255 255]\n",
      " ...\n",
      " [255 255 255 ... 255 255 255]\n",
      " [255 255 255 ... 255 255 255]\n",
      " [255 255 255 ... 255 255 255]]\n",
      "(180, 279)\n"
     ]
    }
   ],
   "source": [
    "img_test = cv.imread('C:/Users/Ryu/Desktop/CTSkinSegmentation/CTSkinSegmentation/test.png')\n",
    "print(type(img_test))\n",
    "print(img_test.shape)\n",
    "print(img_test[90:,90:,0]) \n",
    "\n",
    "print()\n",
    "\n",
    "img_cvtGray = cv.cvtColor(img_test, cv.COLOR_BGR2GRAY)\n",
    "print(img_cvtGray[90:,90:])\n",
    "print(img_cvtGray.shape)"
   ]
  },
  {
   "cell_type": "markdown",
   "metadata": {},
   "source": [
    "### 얕은 복사(같은 id) vs 깊은 복사(다른 id)"
   ]
  },
  {
   "cell_type": "code",
   "execution_count": 3,
   "metadata": {},
   "outputs": [
    {
     "name": "stdout",
     "output_type": "stream",
     "text": [
      "2900486167688 2900486167688\n",
      "[5000, 2, 3] [5000, 2, 3]\n",
      "\n",
      "2900486167880 2900486167624\n",
      "[1, 2, 3] [5000, 2, 3]\n"
     ]
    }
   ],
   "source": [
    "# 1. 얕은 복사\n",
    "a = [1,2,3]\n",
    "b = a\n",
    "print(id(a), id(b)) # 같은 id (같은 주소값)\n",
    "\n",
    "b[0] = 5000\n",
    "print(a, b) # 같은 곳을 가리키므로, b를 바꿔도 a값까지 바뀜!\n",
    "\n",
    "print()\n",
    "\n",
    "# 2. 깊은 복사\n",
    "c = [1,2,3]\n",
    "d = c.copy()\n",
    "print(id(c), id(d))\n",
    "\n",
    "d[0] = 5000\n",
    "print(c, d)"
   ]
  },
  {
   "cell_type": "markdown",
   "metadata": {},
   "source": [
    "### 함수로 배열 넘기기\n",
    "함수로 배열을 넘기는 행위가 배열 자체를 전달해서 새로운 배열로 복사하는 것이 아니라, **\"주소값\"**을 넘겨주는 것이다!"
   ]
  },
  {
   "cell_type": "code",
   "execution_count": 71,
   "metadata": {},
   "outputs": [
    {
     "name": "stdout",
     "output_type": "stream",
     "text": [
      "2899327452624\n",
      "2899327452624\n"
     ]
    }
   ],
   "source": [
    "def test(arr):\n",
    "    print(id(arr))\n",
    "\n",
    "arr_test = np.ones(10)\n",
    "print(id(arr_test))\n",
    "test(arr_test)    "
   ]
  },
  {
   "cell_type": "markdown",
   "metadata": {},
   "source": [
    "### cv2.equalizeHist(ds.pixel_array)\n",
    "The function equalizeHist is histogram equalization of images and only implemented for CV_8UC1 type, which is a single channel 8 bit unsigned integral type.  \n",
    "> 따라서 원본이 1000 넘는 값들로 이루어져 uint8 (8bit, 256)이 아니므로, 이 opencv함수 말고 직접 코딩해야됨...  \n",
    ">  ==> **map_uint16_to_uint8() 함수!**"
   ]
  },
  {
   "cell_type": "markdown",
   "metadata": {},
   "source": [
    "### cf. fail modules\n",
    "* ArrayDicom = np.zeros(shape, dtype=np.uint8)\n",
    "* cv.equalizeHist()\n",
    "* cv.createCLAHE()\n",
    "* cv.normalize()\n",
    "* skimage.util.img_as_ubyte() (from skimage import ima_as_ubyte) "
   ]
  },
  {
   "cell_type": "markdown",
   "metadata": {},
   "source": [
    "<hr>"
   ]
  },
  {
   "cell_type": "code",
   "execution_count": 100,
   "metadata": {},
   "outputs": [
    {
     "name": "stdout",
     "output_type": "stream",
     "text": [
      "C:/Users/Ryu/Desktop/180509_SampleData_CT\\CT0002.dcm\n",
      "C:/Users/Ryu/Desktop/180509_SampleData_CT\\CT0003.dcm\n",
      "C:/Users/Ryu/Desktop/180509_SampleData_CT\\CT0004.dcm\n",
      "C:/Users/Ryu/Desktop/180509_SampleData_CT\\CT0005.dcm\n",
      "C:/Users/Ryu/Desktop/180509_SampleData_CT\\CT0006.dcm\n",
      "C:/Users/Ryu/Desktop/180509_SampleData_CT\\CT0007.dcm\n",
      "C:/Users/Ryu/Desktop/180509_SampleData_CT\\CT0008.dcm\n",
      "C:/Users/Ryu/Desktop/180509_SampleData_CT\\CT0009.dcm\n",
      "C:/Users/Ryu/Desktop/180509_SampleData_CT\\CT0010.dcm\n",
      "C:/Users/Ryu/Desktop/180509_SampleData_CT\\CT0011.dcm\n",
      "C:/Users/Ryu/Desktop/180509_SampleData_CT\\CT0012.dcm\n",
      "C:/Users/Ryu/Desktop/180509_SampleData_CT\\CT0013.dcm\n",
      "C:/Users/Ryu/Desktop/180509_SampleData_CT\\CT0014.dcm\n",
      "C:/Users/Ryu/Desktop/180509_SampleData_CT\\CT0015.dcm\n",
      "C:/Users/Ryu/Desktop/180509_SampleData_CT\\CT0016.dcm\n",
      "C:/Users/Ryu/Desktop/180509_SampleData_CT\\CT0017.dcm\n",
      "C:/Users/Ryu/Desktop/180509_SampleData_CT\\CT0018.dcm\n",
      "C:/Users/Ryu/Desktop/180509_SampleData_CT\\CT0019.dcm\n",
      "C:/Users/Ryu/Desktop/180509_SampleData_CT\\CT0020.dcm\n",
      "C:/Users/Ryu/Desktop/180509_SampleData_CT\\CT0021.dcm\n",
      "C:/Users/Ryu/Desktop/180509_SampleData_CT\\CT0022.dcm\n",
      "C:/Users/Ryu/Desktop/180509_SampleData_CT\\CT0023.dcm\n",
      "C:/Users/Ryu/Desktop/180509_SampleData_CT\\CT0024.dcm\n",
      "C:/Users/Ryu/Desktop/180509_SampleData_CT\\CT0025.dcm\n",
      "C:/Users/Ryu/Desktop/180509_SampleData_CT\\CT0026.dcm\n",
      "C:/Users/Ryu/Desktop/180509_SampleData_CT\\CT0027.dcm\n",
      "C:/Users/Ryu/Desktop/180509_SampleData_CT\\CT0028.dcm\n",
      "C:/Users/Ryu/Desktop/180509_SampleData_CT\\CT0029.dcm\n",
      "C:/Users/Ryu/Desktop/180509_SampleData_CT\\CT0030.dcm\n"
     ]
    },
    {
     "ename": "KeyboardInterrupt",
     "evalue": "",
     "output_type": "error",
     "traceback": [
      "\u001b[1;31m---------------------------------------------------------------------------\u001b[0m",
      "\u001b[1;31mKeyboardInterrupt\u001b[0m                         Traceback (most recent call last)",
      "\u001b[1;32m<ipython-input-100-ccc0075ffcf0>\u001b[0m in \u001b[0;36m<module>\u001b[1;34m\u001b[0m\n\u001b[0;32m    102\u001b[0m \u001b[1;33m\u001b[0m\u001b[0m\n\u001b[0;32m    103\u001b[0m \u001b[1;33m\u001b[0m\u001b[0m\n\u001b[1;32m--> 104\u001b[1;33m \u001b[0mmain\u001b[0m\u001b[1;33m(\u001b[0m\u001b[1;33m)\u001b[0m\u001b[1;33m\u001b[0m\u001b[1;33m\u001b[0m\u001b[0m\n\u001b[0m",
      "\u001b[1;32m<ipython-input-100-ccc0075ffcf0>\u001b[0m in \u001b[0;36mmain\u001b[1;34m()\u001b[0m\n\u001b[0;32m     64\u001b[0m \u001b[1;33m\u001b[0m\u001b[0m\n\u001b[0;32m     65\u001b[0m         \u001b[1;31m# 1. Bilateral Filtering (noise filtering)\u001b[0m\u001b[1;33m\u001b[0m\u001b[1;33m\u001b[0m\u001b[1;33m\u001b[0m\u001b[0m\n\u001b[1;32m---> 66\u001b[1;33m         \u001b[0mfiltered\u001b[0m \u001b[1;33m=\u001b[0m \u001b[0mcv\u001b[0m\u001b[1;33m.\u001b[0m\u001b[0mbilateralFilter\u001b[0m\u001b[1;33m(\u001b[0m\u001b[0mimg_copy\u001b[0m\u001b[1;33m,\u001b[0m \u001b[1;33m-\u001b[0m\u001b[1;36m1\u001b[0m\u001b[1;33m,\u001b[0m \u001b[1;36m15\u001b[0m\u001b[1;33m,\u001b[0m \u001b[1;36m15\u001b[0m\u001b[1;33m)\u001b[0m\u001b[1;33m\u001b[0m\u001b[1;33m\u001b[0m\u001b[0m\n\u001b[0m\u001b[0;32m     67\u001b[0m \u001b[1;33m\u001b[0m\u001b[0m\n\u001b[0;32m     68\u001b[0m \u001b[1;33m\u001b[0m\u001b[0m\n",
      "\u001b[1;31mKeyboardInterrupt\u001b[0m: "
     ]
    }
   ],
   "source": [
    "import cv2 as cv\n",
    "import glob\n",
    "import pydicom as dicom\n",
    "import os\n",
    "import numpy as np\n",
    "\n",
    "# array indexing using np.where\n",
    "def Overlay(back, front, rows, cols):\n",
    "    back[:, :, 0] = np.where(front != 0, back[:, :, 0] * 0.7 + 255 * 0, 0)\n",
    "    back[:, :, 1] = np.where(front != 0, back[:, :, 1] * 0.7 + 255 * 0, 0)\n",
    "    back[:, :, 2] = np.where(front != 0, back[:, :, 2] * 0.7 + 255 * 0.3, 0)\n",
    "    \n",
    "    #print(back.shape) # (512, 512, 3) ==> (열, 행, 면)\n",
    "    \n",
    "    '''\n",
    "    for i in range(rows):\n",
    "        for j in range(cols):\n",
    "            if (front[i][j] == 0) : continue\n",
    "            \n",
    "            # linear interpolation\n",
    "            back[i][j][0] = back[i][j][0] * 0.7 + 255 * 0 # b\n",
    "            back[i][j][1] = back[i][j][1] * 0.7 + 255 * 0 # g\n",
    "            back[i][j][2] = back[i][j][2] * 0.7 + 255 * 0.3 # r\n",
    "    '''\n",
    "\n",
    "# from 0 ~ 4095 (16bit, uint16) to 0 ~ 255 (8bit, uint8)\n",
    "def map_uint16_to_uint8(img, lower_bound=None, upper_bound=None):\n",
    "    lower_bound = np.min(img)\n",
    "    upper_bound = np.max(img)\n",
    "    \n",
    "    if not(0 <= lower_bound < 2**16) and lower_bound is not None:\n",
    "        raise ValueError(\n",
    "            '\"lower_bound\" must be in the range [0, 65535]')\n",
    "    if not(0 <= upper_bound < 2**16) and upper_bound is not None:\n",
    "        raise ValueError(\n",
    "            '\"upper_bound\" must be in the range [0, 65535]')\n",
    "    if lower_bound is None:\n",
    "        lower_bound = np.min(img)\n",
    "    if upper_bound is None:\n",
    "        upper_bound = np.max(img)\n",
    "    if lower_bound >= upper_bound:\n",
    "        raise ValueError(\n",
    "            '\"lower_bound\" must be smaller than \"upper_bound\"')\n",
    "    lut = np.concatenate([\n",
    "        np.zeros(lower_bound, dtype=np.uint16),\n",
    "        np.linspace(0, 255, upper_bound - lower_bound).astype(np.uint16),\n",
    "        np.ones(2**16 - upper_bound, dtype=np.uint16) * 255\n",
    "    ])\n",
    "    return lut[img].astype(np.uint8)\n",
    "\n",
    "\n",
    "\n",
    "def main():\n",
    "    files_str = [file for file in glob.glob(\"C:/Users/Ryu/Desktop/180509_SampleData_CT/*.dcm\")] # imread(dcm) : None\n",
    "    \n",
    "    for f in files_str:\n",
    "        print(f)\n",
    "        ori = dicom.read_file(f) # get dicom file / type : <class 'pydicom.dataset.FileDataset'> / size : (512, 512)       \n",
    "        rows, cols = ori.Rows, ori.Columns\n",
    "        \n",
    "        ori1 = map_uint16_to_uint8(ori.pixel_array) # type : np.ndarray ==> cv.imread img도 np.ndarray형!\n",
    "        img_copy = ori1.copy()\n",
    "        \n",
    "        \n",
    "        # 1. Bilateral Filtering (noise filtering)\n",
    "        filtered = cv.bilateralFilter(img_copy, -1, 15, 15)\n",
    "        \n",
    "        \n",
    "        # 2. Otsu;s Thresholding (cv2.threshold(src, 0(**T not defined**), 255(change to 255), flag(binary & otsu)))\n",
    "        ret,otsu = cv.threshold(filtered, 0, 255, cv.THRESH_BINARY + cv.THRESH_OTSU) # 히스토그램 분석 후 자동으로 T값(ret) 구해서 적용\n",
    "        \n",
    "        \n",
    "        # 3. Morphology_preprocessing(remove outlines with erode) ==> anchor(point) default : (-1, -1)\n",
    "        mask = cv.getStructuringElement(cv.MORPH_RECT,(3,3))\n",
    "        pre_erode = cv.erode(otsu, mask, iterations = 7)\n",
    "        pre_dilate = cv.dilate(pre_erode, mask, iterations = 7)\n",
    "        \n",
    "        \n",
    "        # 4. Floodfill (combine background to select hole in body) ==> mask : None (not used)\n",
    "        hole = pre_dilate.copy()\n",
    "        cv.floodFill(hole, None, (0, 0), 255)\n",
    "        cv.floodFill(hole, None, (cols-1, rows-1), 255)\n",
    "    \n",
    "    \n",
    "        # 5. Invert hole\n",
    "        hole_inv = cv.bitwise_not(hole) # == np.bitwise_not == np.invert\n",
    "        \n",
    "        \n",
    "        # 6. bitwise OR (combine pre(bone) and hole)\n",
    "        bitor = np.bitwise_or(pre_dilate, hole_inv)\n",
    "        \n",
    "        \n",
    "        # 7. overlay\n",
    "        back3C = cv.cvtColor(ori1, cv.COLOR_GRAY2BGR) # 3channel\n",
    "        front = bitor.copy()\n",
    "        Overlay(back3C, front, rows, cols)\n",
    "        \n",
    "        \n",
    "        result_path = \"C:/Users/Ryu/Desktop/180509_SampleData_CT/result_python/\"\n",
    "        cv.imwrite(result_path + f[-10:-4] + '.png', back3C) # f : \"C:/Users/Ryu/Desktop/180509_SampleData_CT/CT0002.dcm\"\n",
    "        \n",
    "    \n",
    "    \n",
    "main()"
   ]
  }
 ],
 "metadata": {
  "kernelspec": {
   "display_name": "Python 3",
   "language": "python",
   "name": "python3"
  },
  "language_info": {
   "codemirror_mode": {
    "name": "ipython",
    "version": 3
   },
   "file_extension": ".py",
   "mimetype": "text/x-python",
   "name": "python",
   "nbconvert_exporter": "python",
   "pygments_lexer": "ipython3",
   "version": "3.7.4"
  }
 },
 "nbformat": 4,
 "nbformat_minor": 2
}
