{
 "cells": [
  {
   "cell_type": "code",
   "execution_count": 1,
   "metadata": {},
   "outputs": [
    {
     "name": "stdout",
     "output_type": "stream",
     "text": [
      "4.4.0\n"
     ]
    }
   ],
   "source": [
    "import cv2 as cv\n",
    "print(cv.__version__)"
   ]
  },
  {
   "cell_type": "code",
   "execution_count": 17,
   "metadata": {},
   "outputs": [
    {
     "name": "stdout",
     "output_type": "stream",
     "text": [
      "<class 'numpy.ndarray'>\n",
      "(180, 279, 3)\n",
      "[[ 45  45  45 ... 255 255 255]\n",
      " [ 45  45  45 ... 255 255 255]\n",
      " [ 45  45  45 ... 255 255 255]\n",
      " ...\n",
      " [255 255 255 ... 255 255 255]\n",
      " [255 255 255 ... 255 255 255]\n",
      " [255 255 255 ... 255 255 255]]\n",
      "\n",
      "[[ 46  46  46 ... 255 255 255]\n",
      " [ 46  46  46 ... 255 255 255]\n",
      " [ 46  46  46 ... 255 255 255]\n",
      " ...\n",
      " [255 255 255 ... 255 255 255]\n",
      " [255 255 255 ... 255 255 255]\n",
      " [255 255 255 ... 255 255 255]]\n",
      "(180, 279)\n"
     ]
    }
   ],
   "source": [
    "img_test = cv.imread('C:/Users/Ryu/Desktop/CTSkinSegmentation/CTSkinSegmentation/test.png')\n",
    "print(type(img_test))\n",
    "print(img_test.shape)\n",
    "print(img_test[90:,90:,0])\n",
    "\n",
    "print()\n",
    "\n",
    "img_cvtGray = cv.cvtColor(img_test, cv.COLOR_BGR2GRAY)\n",
    "print(img_cvtGray[90:,90:])\n",
    "print(img_cvtGray.shape)"
   ]
  },
  {
   "cell_type": "code",
   "execution_count": 3,
   "metadata": {},
   "outputs": [
    {
     "name": "stdout",
     "output_type": "stream",
     "text": [
      "2900486167688 2900486167688\n",
      "[5000, 2, 3] [5000, 2, 3]\n",
      "\n",
      "2900486167880 2900486167624\n",
      "[1, 2, 3] [5000, 2, 3]\n"
     ]
    }
   ],
   "source": [
    "# 얕은 복사(같은 id) vs 깊은 복사(다른 id)\n",
    "\n",
    "# 1. 얕은 복사\n",
    "a = [1,2,3]\n",
    "b = a\n",
    "print(id(a), id(b)) # 같은 id (같은 주소값)\n",
    "\n",
    "b[0] = 5000\n",
    "print(a, b) # 같은 곳을 가리키므로, b를 바꿔도 a값까지 바뀜!\n",
    "\n",
    "print()\n",
    "\n",
    "# 2. 깊은 복사\n",
    "c = [1,2,3]\n",
    "d = c.copy()\n",
    "print(id(c), id(d))\n",
    "\n",
    "d[0] = 5000\n",
    "print(c, d)"
   ]
  },
  {
   "cell_type": "markdown",
   "metadata": {},
   "source": [
    "### cv2.equalizeHist(ds.pixel_array)\n",
    "The function equalizeHist is histogram equalization of images and only implemented for CV_8UC1 type, which is a single channel 8 bit unsigned integral type."
   ]
  },
  {
   "cell_type": "code",
   "execution_count": 28,
   "metadata": {},
   "outputs": [
    {
     "name": "stdout",
     "output_type": "stream",
     "text": [
      "[[1020 1018 1018 ... 1069 1044 1056]\n",
      " [1008 1031 1047 ... 1074 1049 1066]\n",
      " [1021 1041 1051 ... 1056 1034 1050]\n",
      " ...\n",
      " [ 146  147  152 ...   21   29   18]\n",
      " [   7    0    0 ...   19   31   21]\n",
      " [   3    3    0 ...   18   26   22]]\n",
      "\n",
      "[[ 0  0  0 ... 25 74 88]\n",
      " [ 0  0  0 ... 50 84 96]\n",
      " [ 0  0  0 ... 45 74 79]\n",
      " ...\n",
      " [ 0  0  0 ... 45 88 30]\n",
      " [ 0  0  0 ... 34 96 45]\n",
      " [ 0  0  0 ... 30 74 50]]\n"
     ]
    }
   ],
   "source": [
    "import cv2 as cv\n",
    "import glob\n",
    "import pydicom as dicom\n",
    "import os\n",
    "import numpy as np\n",
    "from matplotlib import pyplot, cm\n",
    "\n",
    "def DcmToMat(ori, shape, files_str):\n",
    "    # The array is sized based on 'ConstPixelDims'\n",
    "    ArrayDicom = np.zeros(shape, dtype=np.uint8) # ArrayDicom.shape : (512, 512, 193) ==> uint16! ==> should cvt to uint8!\n",
    "\n",
    "    # loop through all the DICOM files\n",
    "    cnt = 0\n",
    "    for filenameDCM in files_str:\n",
    "        if cnt == 1 : break\n",
    "        # read the file\n",
    "        ds = dicom.read_file(filenameDCM)\n",
    "        # store the raw image data\n",
    "        ArrayDicom[:, :, files_str.index(filenameDCM)] = ds.pixel_array\n",
    "        \n",
    "        print(ds.pixel_array[256:, 256:]) # ***error*** ==> out of range (1000넘는 값들 있음...!)\n",
    "        \n",
    "        print()\n",
    "        \n",
    "        dst = cv.equalizeHist(ArrayDicom[:, :, 0])\n",
    "        print(dst)\n",
    "        \n",
    "        cnt += 1\n",
    "        \n",
    "    return ArrayDicom[:, :, 0]\n",
    "\n",
    "def main():\n",
    "    path = \"C:/Users/Ryu/Desktop/180509_SampleData_CT\"\n",
    "    files_str = [file for file in glob.glob(\"C:/Users/Ryu/Desktop/180509_SampleData_CT/*.dcm\")] # imread(dcm) : None\n",
    "    \n",
    "    cnt = 0\n",
    "    for f in files_str:\n",
    "        if cnt == 1: break\n",
    "        ori = dicom.read_file(f) # get dicom file / type : <class 'pydicom.dataset.FileDataset'> / size : (512, 512)       \n",
    "        rows, cols = ori.Rows, ori.Columns\n",
    "        shape = (rows, cols, 193)\n",
    "        ori1 = DcmToMat(ori, shape, files_str) # type : np.ndarray ==> cv.imread img도 np.ndarray형!\n",
    "        \n",
    "        img_copy = ori1.copy()\n",
    "        cv.imwrite('C:/Users/Ryu/Desktop/180509_SampleData_CT/result_python/img_copy.png', img_copy) \n",
    "        #print(ori1, ori1.shape)\n",
    "        \n",
    "        \n",
    "        ''' 이건 원본대로 잘 보임\n",
    "        ConstPixelSpacing = (float(ori.PixelSpacing[0]), float(ori.PixelSpacing[1]), float(ori.SliceThickness))\n",
    "        x = np.arange(0.0, (513)*ConstPixelSpacing[0], ConstPixelSpacing[0])\n",
    "        y = np.arange(0.0, (513)*ConstPixelSpacing[1], ConstPixelSpacing[1])\n",
    "        z = np.arange(0.0, (513)*ConstPixelSpacing[2], ConstPixelSpacing[2])\n",
    "        pyplot.figure(dpi=300)\n",
    "        pyplot.axes().set_aspect('equal', 'datalim')\n",
    "        pyplot.set_cmap(pyplot.gray())\n",
    "        pyplot.pcolormesh(x, y, np.flipud(ori1))\n",
    "        '''\n",
    "        \n",
    "        # 1. Bilateral Filtering (noise filtering)\n",
    "        \n",
    "        \n",
    "        cnt+=1\n",
    "    \n",
    "    \n",
    "main()"
   ]
  }
 ],
 "metadata": {
  "kernelspec": {
   "display_name": "Python 3",
   "language": "python",
   "name": "python3"
  },
  "language_info": {
   "codemirror_mode": {
    "name": "ipython",
    "version": 3
   },
   "file_extension": ".py",
   "mimetype": "text/x-python",
   "name": "python",
   "nbconvert_exporter": "python",
   "pygments_lexer": "ipython3",
   "version": "3.7.4"
  }
 },
 "nbformat": 4,
 "nbformat_minor": 2
}
